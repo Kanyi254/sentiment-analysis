{
  "nbformat": 4,
  "nbformat_minor": 0,
  "metadata": {
    "colab": {
      "provenance": [],
      "authorship_tag": "ABX9TyPTA0jGLTv6423dmAKWTRN2",
      "include_colab_link": true
    },
    "kernelspec": {
      "name": "python3",
      "display_name": "Python 3"
    },
    "language_info": {
      "name": "python"
    }
  },
  "cells": [
    {
      "cell_type": "markdown",
      "metadata": {
        "id": "view-in-github",
        "colab_type": "text"
      },
      "source": [
        "<a href=\"https://colab.research.google.com/github/Kanyi254/sentiment-analysis/blob/main/notebook.ipynb\" target=\"_parent\"><img src=\"https://colab.research.google.com/assets/colab-badge.svg\" alt=\"Open In Colab\"/></a>"
      ]
    },
    {
      "cell_type": "markdown",
      "source": [],
      "metadata": {
        "id": "Txg4ZA87wrsf"
      }
    },
    {
      "cell_type": "markdown",
      "metadata": {
        "id": "cdP9a4Qj96IL"
      },
      "source": [
        "## 1. **Business Understanding**\n",
        "\n",
        "### Overview\n",
        "\n",
        "SentimentFlow aims to address a real-world problem related to understanding public sentiment towards Apple and Google products on Twitter. The stakeholders include companies, marketing teams, and decision-makers who want to gauge public opinion and make informed strategic decisions based on social media sentiment.\n",
        "\n",
        "### Problem Statement\n",
        "\n",
        "The problem is to accurately classify the sentiment of tweets related to Apple and Google products. We want to determine whether a tweet expresses a positive, negative, or neutral sentiment. This classification can help companies understand customer satisfaction, identify potential issues, and tailor their responses accordingly.\n",
        "\n",
        "### Objectives\n",
        "\n",
        "Main Objective\n",
        "\n",
        "> To develop a NLP (Natural Language Processing) multiclass classification model for sentiment analysis, aim to achieve a recall score of 80% and an accuracy of 80%. The model should categorize sentiments into three classes: Positive, Negative, and Neutral.\n",
        "\n",
        "Specific Objectives\n",
        "\n",
        "* To idenitfy the most common words used in the dataset using Word cloud.\n",
        "\n",
        "* To confirm the most common words that are positively and negatively tagged.\n",
        "\n",
        "* To recognize the products that have been opined by the users.\n",
        "\n",
        "* To spot the distribution of the sentiments."
      ]
    },
    {
      "cell_type": "markdown",
      "source": [
        "## 2. **Data Understanding**\n",
        "\n",
        "### Data Sources\n",
        "The dataset originates from CrowdFlower via data.world. Contributors evaluated tweets related to various brands and products. Specifically:\n",
        "- Each tweet was labeled as expressing positive, negative, or no emotion toward a brand or product.\n",
        "- If emotion was expressed, contributors specified which brand or product was the target.\n",
        "\n",
        "### Suitability of Data\n",
        "Here's why this dataset is suitable for our project:\n",
        "1. **Relevance:** The data directly aligns with our business problem of understanding Twitter sentiment for Apple and Google products.\n",
        "2. **Real-World Context:** The tweets represent actual user opinions, making the problem relevant in practice.\n",
        "3. **Multiclass Labels:** We can build both binary (positive/negative) and multiclass (positive/negative/neutral) classifiers using this data.\n",
        "\n",
        "### Dataset Size\n",
        "The dataset contains over 9,000 labeled tweets. We'll explore its features to gain insights.\n",
        "\n",
        "### Descriptive Statistics\n",
        "- **tweet_text:** The content of each tweet.\n",
        "- **is_there_an_emotion_directed_at_a_brand_or_product:** No emotion toward brand or product, Positive emotion, Negative emotion, I can't tell\n",
        "- **emotion_in_tweet_is_directed_at:** The brand or product mentioned in the tweet.\n",
        "\n",
        "### Feature Inclusion\n",
        "Tweet text is the primary feature. The emotion label and target brand/product are essential for classification.\n",
        "\n",
        "### Limitations\n",
        "- **Label Noise:** Human raters' subjectivity may introduce noise.\n",
        "- **Imbalanced Classes:** We'll address class imbalance during modeling.\n",
        "- **Contextual Challenges:** Tweets are often short and context-dependent.\n",
        "- **Incomplete & Missing Data:** Could affect the overall performance of the models."
      ],
      "metadata": {
        "id": "dCRCaKYDx9xk"
      }
    },
    {
      "cell_type": "code",
      "source": [
        "!pip install wordcloud"
      ],
      "metadata": {
        "colab": {
          "base_uri": "https://localhost:8080/"
        },
        "id": "vwq-ZFNxyS-N",
        "outputId": "02e5af0f-7c88-4f3f-adaa-337323eb80fd"
      },
      "execution_count": 2,
      "outputs": [
        {
          "output_type": "stream",
          "name": "stdout",
          "text": [
            "Requirement already satisfied: wordcloud in /usr/local/lib/python3.10/dist-packages (1.9.3)\n",
            "Requirement already satisfied: numpy>=1.6.1 in /usr/local/lib/python3.10/dist-packages (from wordcloud) (1.26.4)\n",
            "Requirement already satisfied: pillow in /usr/local/lib/python3.10/dist-packages (from wordcloud) (10.4.0)\n",
            "Requirement already satisfied: matplotlib in /usr/local/lib/python3.10/dist-packages (from wordcloud) (3.7.1)\n",
            "Requirement already satisfied: contourpy>=1.0.1 in /usr/local/lib/python3.10/dist-packages (from matplotlib->wordcloud) (1.3.0)\n",
            "Requirement already satisfied: cycler>=0.10 in /usr/local/lib/python3.10/dist-packages (from matplotlib->wordcloud) (0.12.1)\n",
            "Requirement already satisfied: fonttools>=4.22.0 in /usr/local/lib/python3.10/dist-packages (from matplotlib->wordcloud) (4.53.1)\n",
            "Requirement already satisfied: kiwisolver>=1.0.1 in /usr/local/lib/python3.10/dist-packages (from matplotlib->wordcloud) (1.4.7)\n",
            "Requirement already satisfied: packaging>=20.0 in /usr/local/lib/python3.10/dist-packages (from matplotlib->wordcloud) (24.1)\n",
            "Requirement already satisfied: pyparsing>=2.3.1 in /usr/local/lib/python3.10/dist-packages (from matplotlib->wordcloud) (3.1.4)\n",
            "Requirement already satisfied: python-dateutil>=2.7 in /usr/local/lib/python3.10/dist-packages (from matplotlib->wordcloud) (2.8.2)\n",
            "Requirement already satisfied: six>=1.5 in /usr/local/lib/python3.10/dist-packages (from python-dateutil>=2.7->matplotlib->wordcloud) (1.16.0)\n"
          ]
        }
      ]
    },
    {
      "cell_type": "code",
      "source": [
        "# Data manipulation\n",
        "import pandas as pd\n",
        "import numpy as np\n",
        "\n",
        "# plotting\n",
        "import seaborn as sns\n",
        "from wordcloud import WordCloud\n",
        "import matplotlib.pyplot as plt\n",
        "\n",
        "# nltk\n",
        "import re\n",
        "import string\n",
        "import nltk\n",
        "from nltk.corpus import stopwords\n",
        "from nltk.probability import FreqDist\n",
        "from nltk.stem import WordNetLemmatizer\n",
        "\n",
        "\n",
        "# Download required NLTK data\n",
        "nltk.download('stopwords')\n",
        "nltk.download('wordnet')\n",
        "nltk.download('averaged_perceptron_tagger')\n",
        "\n",
        "# sklearn\n",
        "from sklearn.svm import SVC\n",
        "from sklearn.svm import LinearSVC\n",
        "from imblearn.over_sampling import SMOTE\n",
        "from sklearn.naive_bayes import BernoulliNB\n",
        "from sklearn.preprocessing import LabelEncoder\n",
        "\n",
        "from sklearn.linear_model import LogisticRegression\n",
        "from sklearn.ensemble import RandomForestClassifier\n",
        "from sklearn.model_selection import train_test_split,cross_val_score\n",
        "\n",
        "from sklearn.naive_bayes import MultinomialNB\n",
        "\n",
        "from sklearn.model_selection import GridSearchCV\n",
        "from sklearn.metrics import confusion_matrix, classification_report, accuracy_score, recall_score\n",
        "\n",
        "from sklearn.feature_extraction.text import TfidfVectorizer, CountVectorizer\n",
        "from sklearn.model_selection import GridSearchCV\n",
        "from sklearn.tree import DecisionTreeClassifier\n",
        "from scipy.sparse import csr_matrix\n",
        "from scipy.sparse import issparse\n",
        "\n",
        "# wordCloud\n",
        "from wordcloud import WordCloud\n",
        "\n",
        "# pickle\n",
        "import pickle\n",
        "\n",
        "# Ignore warnings\n",
        "import warnings\n",
        "warnings.filterwarnings('ignore')"
      ],
      "metadata": {
        "colab": {
          "base_uri": "https://localhost:8080/"
        },
        "id": "uJiasm44x9cS",
        "outputId": "dc16ad40-0370-4499-f37a-6c4fefc52163"
      },
      "execution_count": 1,
      "outputs": [
        {
          "output_type": "stream",
          "name": "stderr",
          "text": [
            "[nltk_data] Downloading package stopwords to /root/nltk_data...\n",
            "[nltk_data]   Unzipping corpora/stopwords.zip.\n",
            "[nltk_data] Downloading package wordnet to /root/nltk_data...\n",
            "[nltk_data] Downloading package averaged_perceptron_tagger to\n",
            "[nltk_data]     /root/nltk_data...\n",
            "[nltk_data]   Unzipping taggers/averaged_perceptron_tagger.zip.\n"
          ]
        }
      ]
    },
    {
      "cell_type": "code",
      "execution_count": null,
      "metadata": {
        "id": "xQQIS-nTwp63"
      },
      "outputs": [],
      "source": []
    }
  ]
}