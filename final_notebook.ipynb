{
  "cells": [
    {
      "cell_type": "markdown",
      "metadata": {
        "id": "Txg4ZA87wrsf"
      },
      "source": [
        "\n",
        "# Twitter Sentiment Analysis for Apple and Google Products"
      ]
    },
    {
      "cell_type": "markdown",
      "source": [
        "## Summary\n",
        "\n",
        "This project performs sentiment analysis on Twitter data from CrowdFlower for Apple and Google product lines. The purpose of this modelling is to understand the customer sentiment in regard to the products of these companies, developing both a binary and multiclass classification problem. Following NLP text pre-processing, feature extraction will be performed along with a series of machine learning modelling using Logistic Regression, Random Forest, and Support Vector Machines (SVM). The best model will be identified by accuracy, precision, recall, and F1-score metrics. Therefore, this sentiment analysis will be able to capture key insights on customer perceptions and allow businesses to fine-tune marketing and product strategies accordingly"
      ],
      "metadata": {
        "id": "pVNyygJp-837"
      }
    },
    {
      "cell_type": "markdown",
      "metadata": {
        "id": "cdP9a4Qj96IL"
      },
      "source": [
        "## Business Understanding\n",
        "\n",
        "The aim of this analysis is to understand how customers view the products of Apple and Google through tweets. Knowing whether public sentiment is positive, negative, or neutral is very helpful for product teams, marketing departments, and customer service units. It serves usefully in the following ways:\n",
        "\n",
        "Improve product features: Companies are then able to identify which products or features are viewed positively or negatively and can then focus on changes in those areas to improve customer satisfaction.\n",
        "This information can later be used to fine-tune marketing strategies: positive sentiment can be used in promotional campaigns, while negative sentiment may show the best avenue through which one can engage the customer.\n",
        "Brand health monitoring: Overall brand perception allows you to understand customer loyalty and brand reputation."
      ]
    },
    {
      "cell_type": "markdown",
      "metadata": {
        "id": "dCRCaKYDx9xk"
      },
      "source": [
        "##  Data Understanding\n",
        "\n",
        "The dataset comes from CrowdFlower and contains Twitter sentiment data about Apple and Google products. Key features of the dataset include:\n",
        "\n",
        "-  tweet_text: The main text of the tweets (free text data).\n",
        "- emotion_in_tweet_is_directed_at:  The dataset identifies whether a tweet is about an Apple product or a Google product.\n",
        "- is_there_an_emotion_directed_at_a_brand_or_product : The dataset is labeled with sentiment categories such as positive, negative, and neutral. There are also some cases labeled as \"can't tell.\""
      ]
    },
    {
      "cell_type": "markdown",
      "source": [
        "#### 1.Import neccessary libraries"
      ],
      "metadata": {
        "id": "w0zVFQbxFub4"
      }
    },
    {
      "cell_type": "code",
      "execution_count": 6,
      "metadata": {
        "id": "xQQIS-nTwp63"
      },
      "outputs": [],
      "source": [
        "#importing the neccessary libraries\n",
        "import pandas as pd\n",
        "import numpy as np\n",
        "import seaborn as sns\n",
        "import matplotlib.pyplot as plt\n",
        "import warnings\n",
        "warnings.filterwarnings('ignore')\n"
      ]
    },
    {
      "cell_type": "markdown",
      "metadata": {
        "id": "xvZj8tcCdxKP"
      },
      "source": [
        "#### 2.Load and Inspect data"
      ]
    },
    {
      "cell_type": "code",
      "execution_count": 7,
      "metadata": {
        "id": "H-TQyaf9ducI"
      },
      "outputs": [],
      "source": [
        "# Class creation\n",
        "\n",
        "class DataUnderstanding:\n",
        "  \"\"\"Class for understanding the characteristics of the dataset\"\"\"\n",
        "  def __init__(self, data= None):\n",
        "    \"\"\"Initialize the class with a DataFrame\"\"\"\n",
        "    self.df= data\n",
        "\n",
        "  def load_data(self, path):\n",
        "    \"\"\"Load data from a CSV file\"\"\"\n",
        "    if self.df is None:\n",
        "      self.df = pd.read_csv(path, encoding= 'latin-1')\n",
        "    return self.df\n",
        "\n",
        "  def preview_df(self):\n",
        "    \"\"\"Preview the DataFrame\"\"\"\n",
        "    print(\"\\n\\nHEAD\")\n",
        "    print(\"-\"*22)\n",
        "    print(self.df.head())\n",
        "\n",
        "  def display_info(self):\n",
        "    \"\"\"Display information about the DataFrame\"\"\"\n",
        "    print(\"\\n\\nINFO\")\n",
        "    print(\"-\"*22)\n",
        "    print(self.df.info())\n",
        "\n",
        "  def display_shape(self):\n",
        "    \"\"\"Display the shape of the DataFrame\"\"\"\n",
        "    print(\"\\n\\nSHAPE\")\n",
        "    print(\"-\"*22)\n",
        "    print(f\"Records: {self.df.shape[0]}, Features: {self.df.shape[1]}\")\n",
        "\n",
        "  def display_columns(self):\n",
        "    \"\"\"Display the columns in the dataset.\"\"\"\n",
        "    print(\"\\nCOLUMNS\")\n",
        "    print(\"-\" *22)\n",
        "    for col in self.df.columns:\n",
        "      print(f\"- {col}\")\n",
        "\n",
        "\n",
        "  def display_missing_values(self):\n",
        "    \"\"\"Display missing values in each column\"\"\"\n",
        "    print(\"\\n\\nMISSING VALUES\")\n",
        "    print(\"-\"*22)\n",
        "    for col in self.df.columns:\n",
        "      print(f\"{col}: {self.df[col].isnull().sum()}\")\n",
        "\n",
        "  def display_duplicates(self):\n",
        "    \"\"\"Display duplicate records in the DataFrame\"\"\"\n",
        "    print(\"\\n\\nDUPLICATES\")\n",
        "    print(\"-\"*22)\n",
        "    print(f\"Duplicate records: {self.df.duplicated().sum()}\")\n",
        "\n",
        "  def understand_data(self):\n",
        "    \"\"\"Display dataset overview\"\"\"\n",
        "    self.preview_df()\n",
        "    self.display_info()\n",
        "    self.display_shape()\n",
        "    self.display_columns()\n",
        "    self.display_missing_values()\n",
        "    self.display_duplicates()\n",
        "\n",
        "\n"
      ]
    },
    {
      "cell_type": "code",
      "execution_count": 8,
      "metadata": {
        "colab": {
          "base_uri": "https://localhost:8080/"
        },
        "id": "g5IRPDihd0EB",
        "outputId": "c1b73fbc-9a6c-43eb-9abd-4aaee617d499"
      },
      "outputs": [
        {
          "output_type": "stream",
          "name": "stdout",
          "text": [
            "\n",
            "\n",
            "HEAD\n",
            "----------------------\n",
            "                                          tweet_text  \\\n",
            "0  .@wesley83 I have a 3G iPhone. After 3 hrs twe...   \n",
            "1  @jessedee Know about @fludapp ? Awesome iPad/i...   \n",
            "2  @swonderlin Can not wait for #iPad 2 also. The...   \n",
            "3  @sxsw I hope this year's festival isn't as cra...   \n",
            "4  @sxtxstate great stuff on Fri #SXSW: Marissa M...   \n",
            "\n",
            "  emotion_in_tweet_is_directed_at  \\\n",
            "0                          iPhone   \n",
            "1              iPad or iPhone App   \n",
            "2                            iPad   \n",
            "3              iPad or iPhone App   \n",
            "4                          Google   \n",
            "\n",
            "  is_there_an_emotion_directed_at_a_brand_or_product  \n",
            "0                                   Negative emotion  \n",
            "1                                   Positive emotion  \n",
            "2                                   Positive emotion  \n",
            "3                                   Negative emotion  \n",
            "4                                   Positive emotion  \n",
            "\n",
            "\n",
            "INFO\n",
            "----------------------\n",
            "<class 'pandas.core.frame.DataFrame'>\n",
            "RangeIndex: 9093 entries, 0 to 9092\n",
            "Data columns (total 3 columns):\n",
            " #   Column                                              Non-Null Count  Dtype \n",
            "---  ------                                              --------------  ----- \n",
            " 0   tweet_text                                          9092 non-null   object\n",
            " 1   emotion_in_tweet_is_directed_at                     3291 non-null   object\n",
            " 2   is_there_an_emotion_directed_at_a_brand_or_product  9093 non-null   object\n",
            "dtypes: object(3)\n",
            "memory usage: 213.2+ KB\n",
            "None\n",
            "\n",
            "\n",
            "SHAPE\n",
            "----------------------\n",
            "Records: 9093, Features: 3\n",
            "\n",
            "COLUMNS\n",
            "----------------------\n",
            "- tweet_text\n",
            "- emotion_in_tweet_is_directed_at\n",
            "- is_there_an_emotion_directed_at_a_brand_or_product\n",
            "\n",
            "\n",
            "MISSING VALUES\n",
            "----------------------\n",
            "tweet_text: 1\n",
            "emotion_in_tweet_is_directed_at: 5802\n",
            "is_there_an_emotion_directed_at_a_brand_or_product: 0\n",
            "\n",
            "\n",
            "DUPLICATES\n",
            "----------------------\n",
            "Duplicate records: 22\n"
          ]
        }
      ],
      "source": [
        "# Load Data\n",
        "\n",
        "data_und = DataUnderstanding()\n",
        "\n",
        "df = data_und.load_data('/content/judge-1377884607_tweet_product_company.csv')\n",
        "\n",
        "data_und.understand_data()"
      ]
    },
    {
      "cell_type": "markdown",
      "metadata": {
        "id": "rW-G1sxvd5Zx"
      },
      "source": [
        "In essence, the dataset is designed to analyze sentiment, whether positive or negative, from tweets involving different products or brands.\n",
        "\n",
        "The majority of these tweets - 5802 - don't specify any product or brand for which some decisions may be required in pre-processing.\n",
        "\n",
        "The dataset is fairly clean; there are a few missing values in the 'tweet_text' and 'emotion_in_tweet_is_directed_at' columns and few duplicates."
      ]
    },
    {
      "cell_type": "markdown",
      "metadata": {
        "id": "wS5ZhTZdd8af"
      },
      "source": [
        "#### 3.Data Cleaning"
      ]
    },
    {
      "cell_type": "code",
      "execution_count": 9,
      "metadata": {
        "id": "rOkf2lzPd3Rv"
      },
      "outputs": [],
      "source": [
        "#renaming columns for easier reference\n",
        "\n",
        "df.rename (columns= {\n",
        "    'tweet_text': 'tweets',\n",
        "    'emotion_in_tweet_is_directed_at': 'product',\n",
        "    'is_there_an_emotion_directed_at_a_brand_or_product': 'emotion'\n",
        "}, inplace=True)"
      ]
    },
    {
      "cell_type": "code",
      "execution_count": 10,
      "metadata": {
        "id": "iO9oUC4xeGJd"
      },
      "outputs": [],
      "source": [
        "# Handling duplicates\n",
        "\n",
        "df.drop_duplicates(subset= 'tweets', inplace= True)"
      ]
    },
    {
      "cell_type": "markdown",
      "source": [
        "Handling missing values"
      ],
      "metadata": {
        "id": "HUuvSbFAHygM"
      }
    },
    {
      "cell_type": "code",
      "execution_count": 11,
      "metadata": {
        "id": "dDd6Ee8peIll"
      },
      "outputs": [],
      "source": [
        "# Drop the 1 in tweets column\n",
        "df = df.dropna(subset=['tweets'])"
      ]
    },
    {
      "cell_type": "code",
      "execution_count": 12,
      "metadata": {
        "colab": {
          "base_uri": "https://localhost:8080/",
          "height": 206
        },
        "id": "P1W1T6AYeMhD",
        "outputId": "8e84d353-adb9-4977-e5de-2a666ee3a8aa"
      },
      "outputs": [
        {
          "output_type": "execute_result",
          "data": {
            "text/plain": [
              "                                              tweets             product  \\\n",
              "0  .@wesley83 I have a 3G iPhone. After 3 hrs twe...              iPhone   \n",
              "1  @jessedee Know about @fludapp ? Awesome iPad/i...  iPad or iPhone App   \n",
              "2  @swonderlin Can not wait for #iPad 2 also. The...                iPad   \n",
              "3  @sxsw I hope this year's festival isn't as cra...  iPad or iPhone App   \n",
              "4  @sxtxstate great stuff on Fri #SXSW: Marissa M...              Google   \n",
              "\n",
              "            emotion  \n",
              "0  Negative emotion  \n",
              "1  Positive emotion  \n",
              "2  Positive emotion  \n",
              "3  Negative emotion  \n",
              "4  Positive emotion  "
            ],
            "text/html": [
              "\n",
              "  <div id=\"df-f287e23e-578c-4556-84a0-ba6e19992941\" class=\"colab-df-container\">\n",
              "    <div>\n",
              "<style scoped>\n",
              "    .dataframe tbody tr th:only-of-type {\n",
              "        vertical-align: middle;\n",
              "    }\n",
              "\n",
              "    .dataframe tbody tr th {\n",
              "        vertical-align: top;\n",
              "    }\n",
              "\n",
              "    .dataframe thead th {\n",
              "        text-align: right;\n",
              "    }\n",
              "</style>\n",
              "<table border=\"1\" class=\"dataframe\">\n",
              "  <thead>\n",
              "    <tr style=\"text-align: right;\">\n",
              "      <th></th>\n",
              "      <th>tweets</th>\n",
              "      <th>product</th>\n",
              "      <th>emotion</th>\n",
              "    </tr>\n",
              "  </thead>\n",
              "  <tbody>\n",
              "    <tr>\n",
              "      <th>0</th>\n",
              "      <td>.@wesley83 I have a 3G iPhone. After 3 hrs twe...</td>\n",
              "      <td>iPhone</td>\n",
              "      <td>Negative emotion</td>\n",
              "    </tr>\n",
              "    <tr>\n",
              "      <th>1</th>\n",
              "      <td>@jessedee Know about @fludapp ? Awesome iPad/i...</td>\n",
              "      <td>iPad or iPhone App</td>\n",
              "      <td>Positive emotion</td>\n",
              "    </tr>\n",
              "    <tr>\n",
              "      <th>2</th>\n",
              "      <td>@swonderlin Can not wait for #iPad 2 also. The...</td>\n",
              "      <td>iPad</td>\n",
              "      <td>Positive emotion</td>\n",
              "    </tr>\n",
              "    <tr>\n",
              "      <th>3</th>\n",
              "      <td>@sxsw I hope this year's festival isn't as cra...</td>\n",
              "      <td>iPad or iPhone App</td>\n",
              "      <td>Negative emotion</td>\n",
              "    </tr>\n",
              "    <tr>\n",
              "      <th>4</th>\n",
              "      <td>@sxtxstate great stuff on Fri #SXSW: Marissa M...</td>\n",
              "      <td>Google</td>\n",
              "      <td>Positive emotion</td>\n",
              "    </tr>\n",
              "  </tbody>\n",
              "</table>\n",
              "</div>\n",
              "    <div class=\"colab-df-buttons\">\n",
              "\n",
              "  <div class=\"colab-df-container\">\n",
              "    <button class=\"colab-df-convert\" onclick=\"convertToInteractive('df-f287e23e-578c-4556-84a0-ba6e19992941')\"\n",
              "            title=\"Convert this dataframe to an interactive table.\"\n",
              "            style=\"display:none;\">\n",
              "\n",
              "  <svg xmlns=\"http://www.w3.org/2000/svg\" height=\"24px\" viewBox=\"0 -960 960 960\">\n",
              "    <path d=\"M120-120v-720h720v720H120Zm60-500h600v-160H180v160Zm220 220h160v-160H400v160Zm0 220h160v-160H400v160ZM180-400h160v-160H180v160Zm440 0h160v-160H620v160ZM180-180h160v-160H180v160Zm440 0h160v-160H620v160Z\"/>\n",
              "  </svg>\n",
              "    </button>\n",
              "\n",
              "  <style>\n",
              "    .colab-df-container {\n",
              "      display:flex;\n",
              "      gap: 12px;\n",
              "    }\n",
              "\n",
              "    .colab-df-convert {\n",
              "      background-color: #E8F0FE;\n",
              "      border: none;\n",
              "      border-radius: 50%;\n",
              "      cursor: pointer;\n",
              "      display: none;\n",
              "      fill: #1967D2;\n",
              "      height: 32px;\n",
              "      padding: 0 0 0 0;\n",
              "      width: 32px;\n",
              "    }\n",
              "\n",
              "    .colab-df-convert:hover {\n",
              "      background-color: #E2EBFA;\n",
              "      box-shadow: 0px 1px 2px rgba(60, 64, 67, 0.3), 0px 1px 3px 1px rgba(60, 64, 67, 0.15);\n",
              "      fill: #174EA6;\n",
              "    }\n",
              "\n",
              "    .colab-df-buttons div {\n",
              "      margin-bottom: 4px;\n",
              "    }\n",
              "\n",
              "    [theme=dark] .colab-df-convert {\n",
              "      background-color: #3B4455;\n",
              "      fill: #D2E3FC;\n",
              "    }\n",
              "\n",
              "    [theme=dark] .colab-df-convert:hover {\n",
              "      background-color: #434B5C;\n",
              "      box-shadow: 0px 1px 3px 1px rgba(0, 0, 0, 0.15);\n",
              "      filter: drop-shadow(0px 1px 2px rgba(0, 0, 0, 0.3));\n",
              "      fill: #FFFFFF;\n",
              "    }\n",
              "  </style>\n",
              "\n",
              "    <script>\n",
              "      const buttonEl =\n",
              "        document.querySelector('#df-f287e23e-578c-4556-84a0-ba6e19992941 button.colab-df-convert');\n",
              "      buttonEl.style.display =\n",
              "        google.colab.kernel.accessAllowed ? 'block' : 'none';\n",
              "\n",
              "      async function convertToInteractive(key) {\n",
              "        const element = document.querySelector('#df-f287e23e-578c-4556-84a0-ba6e19992941');\n",
              "        const dataTable =\n",
              "          await google.colab.kernel.invokeFunction('convertToInteractive',\n",
              "                                                    [key], {});\n",
              "        if (!dataTable) return;\n",
              "\n",
              "        const docLinkHtml = 'Like what you see? Visit the ' +\n",
              "          '<a target=\"_blank\" href=https://colab.research.google.com/notebooks/data_table.ipynb>data table notebook</a>'\n",
              "          + ' to learn more about interactive tables.';\n",
              "        element.innerHTML = '';\n",
              "        dataTable['output_type'] = 'display_data';\n",
              "        await google.colab.output.renderOutput(dataTable, element);\n",
              "        const docLink = document.createElement('div');\n",
              "        docLink.innerHTML = docLinkHtml;\n",
              "        element.appendChild(docLink);\n",
              "      }\n",
              "    </script>\n",
              "  </div>\n",
              "\n",
              "\n",
              "<div id=\"df-10db64fc-49ae-4e35-95eb-ef40fb7f071e\">\n",
              "  <button class=\"colab-df-quickchart\" onclick=\"quickchart('df-10db64fc-49ae-4e35-95eb-ef40fb7f071e')\"\n",
              "            title=\"Suggest charts\"\n",
              "            style=\"display:none;\">\n",
              "\n",
              "<svg xmlns=\"http://www.w3.org/2000/svg\" height=\"24px\"viewBox=\"0 0 24 24\"\n",
              "     width=\"24px\">\n",
              "    <g>\n",
              "        <path d=\"M19 3H5c-1.1 0-2 .9-2 2v14c0 1.1.9 2 2 2h14c1.1 0 2-.9 2-2V5c0-1.1-.9-2-2-2zM9 17H7v-7h2v7zm4 0h-2V7h2v10zm4 0h-2v-4h2v4z\"/>\n",
              "    </g>\n",
              "</svg>\n",
              "  </button>\n",
              "\n",
              "<style>\n",
              "  .colab-df-quickchart {\n",
              "      --bg-color: #E8F0FE;\n",
              "      --fill-color: #1967D2;\n",
              "      --hover-bg-color: #E2EBFA;\n",
              "      --hover-fill-color: #174EA6;\n",
              "      --disabled-fill-color: #AAA;\n",
              "      --disabled-bg-color: #DDD;\n",
              "  }\n",
              "\n",
              "  [theme=dark] .colab-df-quickchart {\n",
              "      --bg-color: #3B4455;\n",
              "      --fill-color: #D2E3FC;\n",
              "      --hover-bg-color: #434B5C;\n",
              "      --hover-fill-color: #FFFFFF;\n",
              "      --disabled-bg-color: #3B4455;\n",
              "      --disabled-fill-color: #666;\n",
              "  }\n",
              "\n",
              "  .colab-df-quickchart {\n",
              "    background-color: var(--bg-color);\n",
              "    border: none;\n",
              "    border-radius: 50%;\n",
              "    cursor: pointer;\n",
              "    display: none;\n",
              "    fill: var(--fill-color);\n",
              "    height: 32px;\n",
              "    padding: 0;\n",
              "    width: 32px;\n",
              "  }\n",
              "\n",
              "  .colab-df-quickchart:hover {\n",
              "    background-color: var(--hover-bg-color);\n",
              "    box-shadow: 0 1px 2px rgba(60, 64, 67, 0.3), 0 1px 3px 1px rgba(60, 64, 67, 0.15);\n",
              "    fill: var(--button-hover-fill-color);\n",
              "  }\n",
              "\n",
              "  .colab-df-quickchart-complete:disabled,\n",
              "  .colab-df-quickchart-complete:disabled:hover {\n",
              "    background-color: var(--disabled-bg-color);\n",
              "    fill: var(--disabled-fill-color);\n",
              "    box-shadow: none;\n",
              "  }\n",
              "\n",
              "  .colab-df-spinner {\n",
              "    border: 2px solid var(--fill-color);\n",
              "    border-color: transparent;\n",
              "    border-bottom-color: var(--fill-color);\n",
              "    animation:\n",
              "      spin 1s steps(1) infinite;\n",
              "  }\n",
              "\n",
              "  @keyframes spin {\n",
              "    0% {\n",
              "      border-color: transparent;\n",
              "      border-bottom-color: var(--fill-color);\n",
              "      border-left-color: var(--fill-color);\n",
              "    }\n",
              "    20% {\n",
              "      border-color: transparent;\n",
              "      border-left-color: var(--fill-color);\n",
              "      border-top-color: var(--fill-color);\n",
              "    }\n",
              "    30% {\n",
              "      border-color: transparent;\n",
              "      border-left-color: var(--fill-color);\n",
              "      border-top-color: var(--fill-color);\n",
              "      border-right-color: var(--fill-color);\n",
              "    }\n",
              "    40% {\n",
              "      border-color: transparent;\n",
              "      border-right-color: var(--fill-color);\n",
              "      border-top-color: var(--fill-color);\n",
              "    }\n",
              "    60% {\n",
              "      border-color: transparent;\n",
              "      border-right-color: var(--fill-color);\n",
              "    }\n",
              "    80% {\n",
              "      border-color: transparent;\n",
              "      border-right-color: var(--fill-color);\n",
              "      border-bottom-color: var(--fill-color);\n",
              "    }\n",
              "    90% {\n",
              "      border-color: transparent;\n",
              "      border-bottom-color: var(--fill-color);\n",
              "    }\n",
              "  }\n",
              "</style>\n",
              "\n",
              "  <script>\n",
              "    async function quickchart(key) {\n",
              "      const quickchartButtonEl =\n",
              "        document.querySelector('#' + key + ' button');\n",
              "      quickchartButtonEl.disabled = true;  // To prevent multiple clicks.\n",
              "      quickchartButtonEl.classList.add('colab-df-spinner');\n",
              "      try {\n",
              "        const charts = await google.colab.kernel.invokeFunction(\n",
              "            'suggestCharts', [key], {});\n",
              "      } catch (error) {\n",
              "        console.error('Error during call to suggestCharts:', error);\n",
              "      }\n",
              "      quickchartButtonEl.classList.remove('colab-df-spinner');\n",
              "      quickchartButtonEl.classList.add('colab-df-quickchart-complete');\n",
              "    }\n",
              "    (() => {\n",
              "      let quickchartButtonEl =\n",
              "        document.querySelector('#df-10db64fc-49ae-4e35-95eb-ef40fb7f071e button');\n",
              "      quickchartButtonEl.style.display =\n",
              "        google.colab.kernel.accessAllowed ? 'block' : 'none';\n",
              "    })();\n",
              "  </script>\n",
              "</div>\n",
              "\n",
              "    </div>\n",
              "  </div>\n"
            ],
            "application/vnd.google.colaboratory.intrinsic+json": {
              "type": "dataframe",
              "variable_name": "df",
              "summary": "{\n  \"name\": \"df\",\n  \"rows\": 9065,\n  \"fields\": [\n    {\n      \"column\": \"tweets\",\n      \"properties\": {\n        \"dtype\": \"string\",\n        \"num_unique_values\": 9065,\n        \"samples\": [\n          \"RT @mention @mention shows #Apple 's position in the tablet wars. #tapworthy #sxsw  {link}\",\n          \"My first #SXSW survival kit. iPhone not in the shot because I'm using it to take the picture.  {link} I might be ready.\",\n          \"RT@mention by parabolico_bh MARAVILHA, APROVEITEM!\\n{link} \\u0089\\u00e3_ #edchat #musedchat #sxsw #sxswi #classical\"\n        ],\n        \"semantic_type\": \"\",\n        \"description\": \"\"\n      }\n    },\n    {\n      \"column\": \"product\",\n      \"properties\": {\n        \"dtype\": \"category\",\n        \"num_unique_values\": 9,\n        \"samples\": [\n          \"Other Google product or service\",\n          \"iPad or iPhone App\",\n          \"Apple\"\n        ],\n        \"semantic_type\": \"\",\n        \"description\": \"\"\n      }\n    },\n    {\n      \"column\": \"emotion\",\n      \"properties\": {\n        \"dtype\": \"category\",\n        \"num_unique_values\": 4,\n        \"samples\": [\n          \"Positive emotion\",\n          \"I can't tell\",\n          \"Negative emotion\"\n        ],\n        \"semantic_type\": \"\",\n        \"description\": \"\"\n      }\n    }\n  ]\n}"
            }
          },
          "metadata": {},
          "execution_count": 12
        }
      ],
      "source": [
        "# imputing missing values in product column with data from tweets\n",
        "\n",
        "product_list = df['product'].unique()\n",
        "product_list = [product for product in product_list if str(product) != 'nan']\n",
        "\n",
        "def extract_product(tweet):\n",
        "    for product in product_list:\n",
        "        if product.lower() in tweet.lower():\n",
        "            return product\n",
        "    return None\n",
        "\n",
        "df.loc[:, 'product']  = df.apply(lambda x: extract_product(x['tweets']) if pd.isna(x['product']) else x['product'], axis=1,)\n",
        "\n",
        "df.head(5)"
      ]
    },
    {
      "cell_type": "code",
      "execution_count": 13,
      "metadata": {
        "colab": {
          "base_uri": "https://localhost:8080/"
        },
        "id": "LSkTYkSeePk2",
        "outputId": "99b35428-09c5-413b-9d24-5741ad49e6af"
      },
      "outputs": [
        {
          "output_type": "execute_result",
          "data": {
            "text/plain": [
              "759"
            ]
          },
          "metadata": {},
          "execution_count": 13
        }
      ],
      "source": [
        "df['product'].isnull().sum()"
      ]
    },
    {
      "cell_type": "code",
      "execution_count": 14,
      "metadata": {
        "id": "RTd29x4deS9V"
      },
      "outputs": [],
      "source": [
        "# drop the remaining\n",
        "df = df.dropna(subset=['product'])"
      ]
    },
    {
      "cell_type": "code",
      "execution_count": 15,
      "metadata": {
        "colab": {
          "base_uri": "https://localhost:8080/",
          "height": 241
        },
        "id": "NyGqgnIoeUjU",
        "outputId": "4fe05f55-61ce-42d0-ba79-819f25fbe4e6"
      },
      "outputs": [
        {
          "output_type": "execute_result",
          "data": {
            "text/plain": [
              "emotion\n",
              "No emotion toward brand or product    4633\n",
              "Positive emotion                      2955\n",
              "Negative emotion                       568\n",
              "I can't tell                           150\n",
              "Name: count, dtype: int64"
            ],
            "text/html": [
              "<div>\n",
              "<style scoped>\n",
              "    .dataframe tbody tr th:only-of-type {\n",
              "        vertical-align: middle;\n",
              "    }\n",
              "\n",
              "    .dataframe tbody tr th {\n",
              "        vertical-align: top;\n",
              "    }\n",
              "\n",
              "    .dataframe thead th {\n",
              "        text-align: right;\n",
              "    }\n",
              "</style>\n",
              "<table border=\"1\" class=\"dataframe\">\n",
              "  <thead>\n",
              "    <tr style=\"text-align: right;\">\n",
              "      <th></th>\n",
              "      <th>count</th>\n",
              "    </tr>\n",
              "    <tr>\n",
              "      <th>emotion</th>\n",
              "      <th></th>\n",
              "    </tr>\n",
              "  </thead>\n",
              "  <tbody>\n",
              "    <tr>\n",
              "      <th>No emotion toward brand or product</th>\n",
              "      <td>4633</td>\n",
              "    </tr>\n",
              "    <tr>\n",
              "      <th>Positive emotion</th>\n",
              "      <td>2955</td>\n",
              "    </tr>\n",
              "    <tr>\n",
              "      <th>Negative emotion</th>\n",
              "      <td>568</td>\n",
              "    </tr>\n",
              "    <tr>\n",
              "      <th>I can't tell</th>\n",
              "      <td>150</td>\n",
              "    </tr>\n",
              "  </tbody>\n",
              "</table>\n",
              "</div><br><label><b>dtype:</b> int64</label>"
            ]
          },
          "metadata": {},
          "execution_count": 15
        }
      ],
      "source": [
        "#check distribution of emotions\n",
        "df['emotion'].value_counts()"
      ]
    },
    {
      "cell_type": "code",
      "execution_count": 16,
      "metadata": {
        "id": "zPLtBTxKeXS7"
      },
      "outputs": [],
      "source": [
        "#drop records where emotion is i can't tell\n",
        "df = df.drop(df[df['emotion'] == \"I can't tell\"].index)"
      ]
    },
    {
      "cell_type": "code",
      "execution_count": 17,
      "metadata": {
        "colab": {
          "base_uri": "https://localhost:8080/",
          "height": 206
        },
        "id": "dNmx45fNeX_1",
        "outputId": "af578aec-1d46-4f42-e696-90e99d6fb99e"
      },
      "outputs": [
        {
          "output_type": "execute_result",
          "data": {
            "text/plain": [
              "                                              tweets             product  \\\n",
              "0  .@wesley83 I have a 3G iPhone. After 3 hrs twe...              iPhone   \n",
              "1  @jessedee Know about @fludapp ? Awesome iPad/i...  iPad or iPhone App   \n",
              "2  @swonderlin Can not wait for #iPad 2 also. The...                iPad   \n",
              "3  @sxsw I hope this year's festival isn't as cra...  iPad or iPhone App   \n",
              "4  @sxtxstate great stuff on Fri #SXSW: Marissa M...              Google   \n",
              "\n",
              "            emotion sentiment  \n",
              "0  Negative emotion  negative  \n",
              "1  Positive emotion  positive  \n",
              "2  Positive emotion  positive  \n",
              "3  Negative emotion  negative  \n",
              "4  Positive emotion  positive  "
            ],
            "text/html": [
              "\n",
              "  <div id=\"df-e3956f86-2606-4429-9ee3-c59e07d410ac\" class=\"colab-df-container\">\n",
              "    <div>\n",
              "<style scoped>\n",
              "    .dataframe tbody tr th:only-of-type {\n",
              "        vertical-align: middle;\n",
              "    }\n",
              "\n",
              "    .dataframe tbody tr th {\n",
              "        vertical-align: top;\n",
              "    }\n",
              "\n",
              "    .dataframe thead th {\n",
              "        text-align: right;\n",
              "    }\n",
              "</style>\n",
              "<table border=\"1\" class=\"dataframe\">\n",
              "  <thead>\n",
              "    <tr style=\"text-align: right;\">\n",
              "      <th></th>\n",
              "      <th>tweets</th>\n",
              "      <th>product</th>\n",
              "      <th>emotion</th>\n",
              "      <th>sentiment</th>\n",
              "    </tr>\n",
              "  </thead>\n",
              "  <tbody>\n",
              "    <tr>\n",
              "      <th>0</th>\n",
              "      <td>.@wesley83 I have a 3G iPhone. After 3 hrs twe...</td>\n",
              "      <td>iPhone</td>\n",
              "      <td>Negative emotion</td>\n",
              "      <td>negative</td>\n",
              "    </tr>\n",
              "    <tr>\n",
              "      <th>1</th>\n",
              "      <td>@jessedee Know about @fludapp ? Awesome iPad/i...</td>\n",
              "      <td>iPad or iPhone App</td>\n",
              "      <td>Positive emotion</td>\n",
              "      <td>positive</td>\n",
              "    </tr>\n",
              "    <tr>\n",
              "      <th>2</th>\n",
              "      <td>@swonderlin Can not wait for #iPad 2 also. The...</td>\n",
              "      <td>iPad</td>\n",
              "      <td>Positive emotion</td>\n",
              "      <td>positive</td>\n",
              "    </tr>\n",
              "    <tr>\n",
              "      <th>3</th>\n",
              "      <td>@sxsw I hope this year's festival isn't as cra...</td>\n",
              "      <td>iPad or iPhone App</td>\n",
              "      <td>Negative emotion</td>\n",
              "      <td>negative</td>\n",
              "    </tr>\n",
              "    <tr>\n",
              "      <th>4</th>\n",
              "      <td>@sxtxstate great stuff on Fri #SXSW: Marissa M...</td>\n",
              "      <td>Google</td>\n",
              "      <td>Positive emotion</td>\n",
              "      <td>positive</td>\n",
              "    </tr>\n",
              "  </tbody>\n",
              "</table>\n",
              "</div>\n",
              "    <div class=\"colab-df-buttons\">\n",
              "\n",
              "  <div class=\"colab-df-container\">\n",
              "    <button class=\"colab-df-convert\" onclick=\"convertToInteractive('df-e3956f86-2606-4429-9ee3-c59e07d410ac')\"\n",
              "            title=\"Convert this dataframe to an interactive table.\"\n",
              "            style=\"display:none;\">\n",
              "\n",
              "  <svg xmlns=\"http://www.w3.org/2000/svg\" height=\"24px\" viewBox=\"0 -960 960 960\">\n",
              "    <path d=\"M120-120v-720h720v720H120Zm60-500h600v-160H180v160Zm220 220h160v-160H400v160Zm0 220h160v-160H400v160ZM180-400h160v-160H180v160Zm440 0h160v-160H620v160ZM180-180h160v-160H180v160Zm440 0h160v-160H620v160Z\"/>\n",
              "  </svg>\n",
              "    </button>\n",
              "\n",
              "  <style>\n",
              "    .colab-df-container {\n",
              "      display:flex;\n",
              "      gap: 12px;\n",
              "    }\n",
              "\n",
              "    .colab-df-convert {\n",
              "      background-color: #E8F0FE;\n",
              "      border: none;\n",
              "      border-radius: 50%;\n",
              "      cursor: pointer;\n",
              "      display: none;\n",
              "      fill: #1967D2;\n",
              "      height: 32px;\n",
              "      padding: 0 0 0 0;\n",
              "      width: 32px;\n",
              "    }\n",
              "\n",
              "    .colab-df-convert:hover {\n",
              "      background-color: #E2EBFA;\n",
              "      box-shadow: 0px 1px 2px rgba(60, 64, 67, 0.3), 0px 1px 3px 1px rgba(60, 64, 67, 0.15);\n",
              "      fill: #174EA6;\n",
              "    }\n",
              "\n",
              "    .colab-df-buttons div {\n",
              "      margin-bottom: 4px;\n",
              "    }\n",
              "\n",
              "    [theme=dark] .colab-df-convert {\n",
              "      background-color: #3B4455;\n",
              "      fill: #D2E3FC;\n",
              "    }\n",
              "\n",
              "    [theme=dark] .colab-df-convert:hover {\n",
              "      background-color: #434B5C;\n",
              "      box-shadow: 0px 1px 3px 1px rgba(0, 0, 0, 0.15);\n",
              "      filter: drop-shadow(0px 1px 2px rgba(0, 0, 0, 0.3));\n",
              "      fill: #FFFFFF;\n",
              "    }\n",
              "  </style>\n",
              "\n",
              "    <script>\n",
              "      const buttonEl =\n",
              "        document.querySelector('#df-e3956f86-2606-4429-9ee3-c59e07d410ac button.colab-df-convert');\n",
              "      buttonEl.style.display =\n",
              "        google.colab.kernel.accessAllowed ? 'block' : 'none';\n",
              "\n",
              "      async function convertToInteractive(key) {\n",
              "        const element = document.querySelector('#df-e3956f86-2606-4429-9ee3-c59e07d410ac');\n",
              "        const dataTable =\n",
              "          await google.colab.kernel.invokeFunction('convertToInteractive',\n",
              "                                                    [key], {});\n",
              "        if (!dataTable) return;\n",
              "\n",
              "        const docLinkHtml = 'Like what you see? Visit the ' +\n",
              "          '<a target=\"_blank\" href=https://colab.research.google.com/notebooks/data_table.ipynb>data table notebook</a>'\n",
              "          + ' to learn more about interactive tables.';\n",
              "        element.innerHTML = '';\n",
              "        dataTable['output_type'] = 'display_data';\n",
              "        await google.colab.output.renderOutput(dataTable, element);\n",
              "        const docLink = document.createElement('div');\n",
              "        docLink.innerHTML = docLinkHtml;\n",
              "        element.appendChild(docLink);\n",
              "      }\n",
              "    </script>\n",
              "  </div>\n",
              "\n",
              "\n",
              "<div id=\"df-bbb36ab0-1891-47ad-ac8b-cb22625e8668\">\n",
              "  <button class=\"colab-df-quickchart\" onclick=\"quickchart('df-bbb36ab0-1891-47ad-ac8b-cb22625e8668')\"\n",
              "            title=\"Suggest charts\"\n",
              "            style=\"display:none;\">\n",
              "\n",
              "<svg xmlns=\"http://www.w3.org/2000/svg\" height=\"24px\"viewBox=\"0 0 24 24\"\n",
              "     width=\"24px\">\n",
              "    <g>\n",
              "        <path d=\"M19 3H5c-1.1 0-2 .9-2 2v14c0 1.1.9 2 2 2h14c1.1 0 2-.9 2-2V5c0-1.1-.9-2-2-2zM9 17H7v-7h2v7zm4 0h-2V7h2v10zm4 0h-2v-4h2v4z\"/>\n",
              "    </g>\n",
              "</svg>\n",
              "  </button>\n",
              "\n",
              "<style>\n",
              "  .colab-df-quickchart {\n",
              "      --bg-color: #E8F0FE;\n",
              "      --fill-color: #1967D2;\n",
              "      --hover-bg-color: #E2EBFA;\n",
              "      --hover-fill-color: #174EA6;\n",
              "      --disabled-fill-color: #AAA;\n",
              "      --disabled-bg-color: #DDD;\n",
              "  }\n",
              "\n",
              "  [theme=dark] .colab-df-quickchart {\n",
              "      --bg-color: #3B4455;\n",
              "      --fill-color: #D2E3FC;\n",
              "      --hover-bg-color: #434B5C;\n",
              "      --hover-fill-color: #FFFFFF;\n",
              "      --disabled-bg-color: #3B4455;\n",
              "      --disabled-fill-color: #666;\n",
              "  }\n",
              "\n",
              "  .colab-df-quickchart {\n",
              "    background-color: var(--bg-color);\n",
              "    border: none;\n",
              "    border-radius: 50%;\n",
              "    cursor: pointer;\n",
              "    display: none;\n",
              "    fill: var(--fill-color);\n",
              "    height: 32px;\n",
              "    padding: 0;\n",
              "    width: 32px;\n",
              "  }\n",
              "\n",
              "  .colab-df-quickchart:hover {\n",
              "    background-color: var(--hover-bg-color);\n",
              "    box-shadow: 0 1px 2px rgba(60, 64, 67, 0.3), 0 1px 3px 1px rgba(60, 64, 67, 0.15);\n",
              "    fill: var(--button-hover-fill-color);\n",
              "  }\n",
              "\n",
              "  .colab-df-quickchart-complete:disabled,\n",
              "  .colab-df-quickchart-complete:disabled:hover {\n",
              "    background-color: var(--disabled-bg-color);\n",
              "    fill: var(--disabled-fill-color);\n",
              "    box-shadow: none;\n",
              "  }\n",
              "\n",
              "  .colab-df-spinner {\n",
              "    border: 2px solid var(--fill-color);\n",
              "    border-color: transparent;\n",
              "    border-bottom-color: var(--fill-color);\n",
              "    animation:\n",
              "      spin 1s steps(1) infinite;\n",
              "  }\n",
              "\n",
              "  @keyframes spin {\n",
              "    0% {\n",
              "      border-color: transparent;\n",
              "      border-bottom-color: var(--fill-color);\n",
              "      border-left-color: var(--fill-color);\n",
              "    }\n",
              "    20% {\n",
              "      border-color: transparent;\n",
              "      border-left-color: var(--fill-color);\n",
              "      border-top-color: var(--fill-color);\n",
              "    }\n",
              "    30% {\n",
              "      border-color: transparent;\n",
              "      border-left-color: var(--fill-color);\n",
              "      border-top-color: var(--fill-color);\n",
              "      border-right-color: var(--fill-color);\n",
              "    }\n",
              "    40% {\n",
              "      border-color: transparent;\n",
              "      border-right-color: var(--fill-color);\n",
              "      border-top-color: var(--fill-color);\n",
              "    }\n",
              "    60% {\n",
              "      border-color: transparent;\n",
              "      border-right-color: var(--fill-color);\n",
              "    }\n",
              "    80% {\n",
              "      border-color: transparent;\n",
              "      border-right-color: var(--fill-color);\n",
              "      border-bottom-color: var(--fill-color);\n",
              "    }\n",
              "    90% {\n",
              "      border-color: transparent;\n",
              "      border-bottom-color: var(--fill-color);\n",
              "    }\n",
              "  }\n",
              "</style>\n",
              "\n",
              "  <script>\n",
              "    async function quickchart(key) {\n",
              "      const quickchartButtonEl =\n",
              "        document.querySelector('#' + key + ' button');\n",
              "      quickchartButtonEl.disabled = true;  // To prevent multiple clicks.\n",
              "      quickchartButtonEl.classList.add('colab-df-spinner');\n",
              "      try {\n",
              "        const charts = await google.colab.kernel.invokeFunction(\n",
              "            'suggestCharts', [key], {});\n",
              "      } catch (error) {\n",
              "        console.error('Error during call to suggestCharts:', error);\n",
              "      }\n",
              "      quickchartButtonEl.classList.remove('colab-df-spinner');\n",
              "      quickchartButtonEl.classList.add('colab-df-quickchart-complete');\n",
              "    }\n",
              "    (() => {\n",
              "      let quickchartButtonEl =\n",
              "        document.querySelector('#df-bbb36ab0-1891-47ad-ac8b-cb22625e8668 button');\n",
              "      quickchartButtonEl.style.display =\n",
              "        google.colab.kernel.accessAllowed ? 'block' : 'none';\n",
              "    })();\n",
              "  </script>\n",
              "</div>\n",
              "\n",
              "    </div>\n",
              "  </div>\n"
            ],
            "application/vnd.google.colaboratory.intrinsic+json": {
              "type": "dataframe",
              "variable_name": "df",
              "summary": "{\n  \"name\": \"df\",\n  \"rows\": 8156,\n  \"fields\": [\n    {\n      \"column\": \"tweets\",\n      \"properties\": {\n        \"dtype\": \"string\",\n        \"num_unique_values\": 8156,\n        \"samples\": [\n          \"Walking into Google party. #SXSW\",\n          \"Just when you thought &quot;social&quot; couldn't get more overblown at #sxsw, Google may be announcing &quot;Circles&quot; today: {link}\",\n          \"#sxsw news: Google to Launch Major New Social Network Called Circles, Possibly Today {link}\"\n        ],\n        \"semantic_type\": \"\",\n        \"description\": \"\"\n      }\n    },\n    {\n      \"column\": \"product\",\n      \"properties\": {\n        \"dtype\": \"category\",\n        \"num_unique_values\": 9,\n        \"samples\": [\n          \"Other Google product or service\",\n          \"iPad or iPhone App\",\n          \"Apple\"\n        ],\n        \"semantic_type\": \"\",\n        \"description\": \"\"\n      }\n    },\n    {\n      \"column\": \"emotion\",\n      \"properties\": {\n        \"dtype\": \"category\",\n        \"num_unique_values\": 3,\n        \"samples\": [\n          \"Negative emotion\",\n          \"Positive emotion\",\n          \"No emotion toward brand or product\"\n        ],\n        \"semantic_type\": \"\",\n        \"description\": \"\"\n      }\n    },\n    {\n      \"column\": \"sentiment\",\n      \"properties\": {\n        \"dtype\": \"category\",\n        \"num_unique_values\": 3,\n        \"samples\": [\n          \"negative\",\n          \"positive\",\n          \"neutral\"\n        ],\n        \"semantic_type\": \"\",\n        \"description\": \"\"\n      }\n    }\n  ]\n}"
            }
          },
          "metadata": {},
          "execution_count": 17
        }
      ],
      "source": [
        "# label emotion as 'positive', 'negative' and 'neutral'\n",
        "df.loc[:, 'sentiment'] = df['emotion'].apply(lambda x: 'positive' if x == 'Positive emotion' else ('negative' if x == 'Negative emotion' else 'neutral'))\n",
        "df.head()"
      ]
    },
    {
      "cell_type": "code",
      "execution_count": 18,
      "metadata": {
        "colab": {
          "base_uri": "https://localhost:8080/"
        },
        "id": "GB__QYCjearS",
        "outputId": "62588785-8961-46d0-b00b-081f41bdbefd"
      },
      "outputs": [
        {
          "output_type": "stream",
          "name": "stdout",
          "text": [
            "\n",
            "\n",
            "HEAD\n",
            "----------------------\n",
            "                                              tweets             product  \\\n",
            "0  .@wesley83 I have a 3G iPhone. After 3 hrs twe...              iPhone   \n",
            "1  @jessedee Know about @fludapp ? Awesome iPad/i...  iPad or iPhone App   \n",
            "2  @swonderlin Can not wait for #iPad 2 also. The...                iPad   \n",
            "3  @sxsw I hope this year's festival isn't as cra...  iPad or iPhone App   \n",
            "4  @sxtxstate great stuff on Fri #SXSW: Marissa M...              Google   \n",
            "\n",
            "            emotion sentiment  \n",
            "0  Negative emotion  negative  \n",
            "1  Positive emotion  positive  \n",
            "2  Positive emotion  positive  \n",
            "3  Negative emotion  negative  \n",
            "4  Positive emotion  positive  \n",
            "\n",
            "\n",
            "INFO\n",
            "----------------------\n",
            "<class 'pandas.core.frame.DataFrame'>\n",
            "Index: 8156 entries, 0 to 9092\n",
            "Data columns (total 4 columns):\n",
            " #   Column     Non-Null Count  Dtype \n",
            "---  ------     --------------  ----- \n",
            " 0   tweets     8156 non-null   object\n",
            " 1   product    8156 non-null   object\n",
            " 2   emotion    8156 non-null   object\n",
            " 3   sentiment  8156 non-null   object\n",
            "dtypes: object(4)\n",
            "memory usage: 318.6+ KB\n",
            "None\n",
            "\n",
            "\n",
            "SHAPE\n",
            "----------------------\n",
            "Records: 8156, Features: 4\n",
            "\n",
            "COLUMNS\n",
            "----------------------\n",
            "- tweets\n",
            "- product\n",
            "- emotion\n",
            "- sentiment\n",
            "\n",
            "\n",
            "MISSING VALUES\n",
            "----------------------\n",
            "tweets: 0\n",
            "product: 0\n",
            "emotion: 0\n",
            "sentiment: 0\n",
            "\n",
            "\n",
            "DUPLICATES\n",
            "----------------------\n",
            "Duplicate records: 0\n"
          ]
        }
      ],
      "source": [
        "#Ensure cleaning process worked effectively\n",
        "data_und = DataUnderstanding(df)\n",
        "\n",
        "data_und.understand_data()"
      ]
    },
    {
      "cell_type": "markdown",
      "metadata": {
        "id": "YRsOXSo6OfPi"
      },
      "source": [
        "#### 4.Exploratory Data Analysis"
      ]
    },
    {
      "cell_type": "code",
      "execution_count": 19,
      "metadata": {
        "colab": {
          "base_uri": "https://localhost:8080/",
          "height": 521
        },
        "id": "5cBbLWt7KX_t",
        "outputId": "2fe144a6-590a-44db-eef8-6fa0fca910a1"
      },
      "outputs": [
        {
          "output_type": "display_data",
          "data": {
            "text/plain": [
              "<Figure size 800x600 with 1 Axes>"
            ],
            "image/png": "[encoded data removed]"
          },
          "metadata": {}
        }
      ],
      "source": [
        "#sentiment distribution\n",
        "sentiment_counts = df['sentiment'].value_counts()\n",
        "\n",
        "# piechart\n",
        "plt.figure(figsize=(8, 6))\n",
        "labels= sentiment_counts.index\n",
        "plt.pie(sentiment_counts, labels=labels, autopct='%1.1f%%', startangle=90)\n",
        "plt.title('Sentiment Distribution')\n",
        "plt.show()\n"
      ]
    },
    {
      "cell_type": "markdown",
      "metadata": {
        "id": "Y-DBEdEFdFN2"
      },
      "source": [
        "Class Imbalance is evident, seeing as more than 50% of the tweets convey neutral emotion and approximately 7% convey negative emotion."
      ]
    },
    {
      "cell_type": "code",
      "execution_count": 20,
      "metadata": {
        "colab": {
          "base_uri": "https://localhost:8080/",
          "height": 472
        },
        "id": "i7LtAvEVQJ2w",
        "outputId": "d6b19d31-ffa5-45fc-c3b2-c91a0b8aafa0"
      },
      "outputs": [
        {
          "output_type": "display_data",
          "data": {
            "text/plain": [
              "<Figure size 640x480 with 1 Axes>"
            ],
            "image/png": "[encoded data removed]"
          },
          "metadata": {}
        }
      ],
      "source": [
        "# tweet length distribution\n",
        "df['tweet_length'] = df['tweets'].apply(lambda x: len(x.split()))\n",
        "\n",
        "sns.histplot(df['tweet_length'], bins=20, color= 'orange')\n",
        "plt.title('Tweet Length Distribution')\n",
        "plt.xlabel('No. of words')\n",
        "plt.ylabel('Frequency')\n",
        "plt.show()\n"
      ]
    },
    {
      "cell_type": "markdown",
      "metadata": {
        "id": "Ynild4hJcoox"
      },
      "source": [
        "The tweets range between 4 and 33 words"
      ]
    },
    {
      "cell_type": "code",
      "execution_count": 21,
      "metadata": {
        "colab": {
          "base_uri": "https://localhost:8080/",
          "height": 519
        },
        "id": "tygwW-X3foE2",
        "outputId": "5a0c16fa-5ed9-4026-e8d7-7e256ec01ed3"
      },
      "outputs": [
        {
          "output_type": "display_data",
          "data": {
            "text/plain": [
              "<Figure size 640x480 with 1 Axes>"
            ],
            "image/png": "[encoded data removed]"
          },
          "metadata": {}
        }
      ],
      "source": [
        "#Class Distribution by tweet length\n",
        "df.groupby('sentiment')['tweet_length'].mean().plot(kind='bar', color= 'salmon')\n",
        "plt.title('Average Tweet Length by sentiment')\n",
        "plt.xlabel('Sentiment')\n",
        "plt.ylabel('Average tweet length')\n",
        "plt.show()"
      ]
    },
    {
      "cell_type": "markdown",
      "metadata": {
        "id": "W2dlCxtXhggb"
      },
      "source": [
        "\n",
        "The bar chart indicates that the average tweet length for all three sentiment categories (positive, negative, and neutral) is almost equal, ranging between 17 to 18 words, suggesting that tweet length is consistent across different sentiments."
      ]
    },
    {
      "cell_type": "code",
      "execution_count": 22,
      "metadata": {
        "colab": {
          "base_uri": "https://localhost:8080/",
          "height": 944
        },
        "id": "tGQ90RmIY_wY",
        "outputId": "f7e2dfa4-14d7-4805-b785-630d643f1d0e"
      },
      "outputs": [
        {
          "output_type": "display_data",
          "data": {
            "text/plain": [
              "<Figure size 800x600 with 1 Axes>"
            ],
            "image/png": "[encoded data removed]"
          },
          "metadata": {}
        },
        {
          "output_type": "execute_result",
          "data": {
            "text/plain": [
              "product\n",
              "iPad                               2390\n",
              "Google                             2093\n",
              "Apple                              1328\n",
              "iPhone                             1178\n",
              "iPad or iPhone App                  469\n",
              "Other Google product or service     292\n",
              "Android                             291\n",
              "Android App                          80\n",
              "Other Apple product or service       35\n",
              "Name: count, dtype: int64"
            ],
            "text/html": [
              "<div>\n",
              "<style scoped>\n",
              "    .dataframe tbody tr th:only-of-type {\n",
              "        vertical-align: middle;\n",
              "    }\n",
              "\n",
              "    .dataframe tbody tr th {\n",
              "        vertical-align: top;\n",
              "    }\n",
              "\n",
              "    .dataframe thead th {\n",
              "        text-align: right;\n",
              "    }\n",
              "</style>\n",
              "<table border=\"1\" class=\"dataframe\">\n",
              "  <thead>\n",
              "    <tr style=\"text-align: right;\">\n",
              "      <th></th>\n",
              "      <th>count</th>\n",
              "    </tr>\n",
              "    <tr>\n",
              "      <th>product</th>\n",
              "      <th></th>\n",
              "    </tr>\n",
              "  </thead>\n",
              "  <tbody>\n",
              "    <tr>\n",
              "      <th>iPad</th>\n",
              "      <td>2390</td>\n",
              "    </tr>\n",
              "    <tr>\n",
              "      <th>Google</th>\n",
              "      <td>2093</td>\n",
              "    </tr>\n",
              "    <tr>\n",
              "      <th>Apple</th>\n",
              "      <td>1328</td>\n",
              "    </tr>\n",
              "    <tr>\n",
              "      <th>iPhone</th>\n",
              "      <td>1178</td>\n",
              "    </tr>\n",
              "    <tr>\n",
              "      <th>iPad or iPhone App</th>\n",
              "      <td>469</td>\n",
              "    </tr>\n",
              "    <tr>\n",
              "      <th>Other Google product or service</th>\n",
              "      <td>292</td>\n",
              "    </tr>\n",
              "    <tr>\n",
              "      <th>Android</th>\n",
              "      <td>291</td>\n",
              "    </tr>\n",
              "    <tr>\n",
              "      <th>Android App</th>\n",
              "      <td>80</td>\n",
              "    </tr>\n",
              "    <tr>\n",
              "      <th>Other Apple product or service</th>\n",
              "      <td>35</td>\n",
              "    </tr>\n",
              "  </tbody>\n",
              "</table>\n",
              "</div><br><label><b>dtype:</b> int64</label>"
            ]
          },
          "metadata": {},
          "execution_count": 22
        }
      ],
      "source": [
        "#Distribution of products\n",
        "product_counts= df['product'].value_counts()\n",
        "\n",
        "plt.figure(figsize= (8, 6))\n",
        "labels= product_counts.index\n",
        "sns.barplot(x= product_counts, y= labels, color= 'green')\n",
        "plt.title('Product Distribution')\n",
        "plt.xlabel('Frequency of tweets')\n",
        "plt.ylabel('Product')\n",
        "plt.show()\n",
        "\n",
        "product_counts"
      ]
    },
    {
      "cell_type": "markdown",
      "metadata": {
        "id": "1h0w5Aa5iAwF"
      },
      "source": [
        "The distribution plot of product distribution shows that iPad is the most mentioned product among the tweets, followed by Google and Apple, which proves these brands are on the hotlist and much discussed, whereas the rest of the products like Android and Apple services have been talked about far less."
      ]
    },
    {
      "cell_type": "code",
      "execution_count": 23,
      "metadata": {
        "colab": {
          "base_uri": "https://localhost:8080/",
          "height": 698
        },
        "id": "ORzj21IHdzyI",
        "outputId": "f6d35975-253f-4871-8933-1f6efefc118c"
      },
      "outputs": [
        {
          "output_type": "display_data",
          "data": {
            "text/plain": [
              "<Figure size 800x600 with 0 Axes>"
            ]
          },
          "metadata": {}
        },
        {
          "output_type": "display_data",
          "data": {
            "text/plain": [
              "<Figure size 640x480 with 1 Axes>"
            ],
            "image/png": "[encoded data removed]"
          },
          "metadata": {}
        }
      ],
      "source": [
        "#Sentiment distribution for each product\n",
        "product_sentiment_counts = df.groupby('product')['sentiment'].value_counts().unstack().fillna(0)\n",
        "\n",
        "#plot\n",
        "plt.figure(figsize=(8, 6))\n",
        "\n",
        "# Plot the sentiment distribution for each product\n",
        "product_sentiment_counts.plot(kind='bar', stacked=True, color=['red', 'green', 'orange'])\n",
        "\n",
        "plt.title('Sentiment Distribution Among Products')\n",
        "plt.xlabel('Product')\n",
        "plt.ylabel('Number of Tweets')\n",
        "plt.xticks(rotation=80)\n",
        "plt.legend(title='Sentiment', labels=product_sentiment_counts.columns)\n",
        "\n",
        "plt.show()\n"
      ]
    },
    {
      "cell_type": "markdown",
      "metadata": {
        "id": "OvLnSzKQRcFt"
      },
      "source": [
        "#### 5.Data Preprocessing"
      ]
    },
    {
      "cell_type": "code",
      "execution_count": 24,
      "metadata": {
        "colab": {
          "base_uri": "https://localhost:8080/"
        },
        "id": "VVstU6fdXE_o",
        "outputId": "28800402-e904-45e2-f536-2d74e00ae91b"
      },
      "outputs": [
        {
          "output_type": "stream",
          "name": "stderr",
          "text": [
            "[nltk_data] Downloading package stopwords to /root/nltk_data...\n",
            "[nltk_data]   Unzipping corpora/stopwords.zip.\n",
            "[nltk_data] Downloading package punkt to /root/nltk_data...\n",
            "[nltk_data]   Unzipping tokenizers/punkt.zip.\n",
            "[nltk_data] Downloading package wordnet to /root/nltk_data...\n"
          ]
        },
        {
          "output_type": "execute_result",
          "data": {
            "text/plain": [
              "True"
            ]
          },
          "metadata": {},
          "execution_count": 24
        }
      ],
      "source": [
        "from sklearn.pipeline import Pipeline\n",
        "from sklearn.feature_extraction.text import TfidfVectorizer\n",
        "from sklearn.base import TransformerMixin\n",
        "import re\n",
        "import nltk\n",
        "from nltk.corpus import stopwords\n",
        "from nltk.tokenize import word_tokenize\n",
        "from nltk.stem import WordNetLemmatizer\n",
        "\n",
        "nltk.download('stopwords')\n",
        "nltk.download('punkt')\n",
        "nltk.download('wordnet')"
      ]
    },
    {
      "cell_type": "code",
      "execution_count": 25,
      "metadata": {
        "id": "y6aMoFkHVrh9"
      },
      "outputs": [],
      "source": [
        "# text preprocessing\n",
        "\n",
        "class TextCleaner(TransformerMixin):\n",
        "    def fit(self, X, y=None):\n",
        "        return self\n",
        "\n",
        "    def transform(self, X):\n",
        "        def clean_text(text):\n",
        "            text = re.sub(r'http\\S+|www\\S+|https\\S+', '', text, flags=re.MULTILINE)  # Remove URLs\n",
        "            text = re.sub(r'@\\w+', '', text)  # Remove mentions\n",
        "            text = re.sub(r'#\\w+', '', text)  # Remove hashtags\n",
        "            text = re.sub(r'[^A-Za-z\\s]', '', text)  # Remove special characters and numbers\n",
        "            text = re.sub(r'\\s+', ' ', text).strip()  # Remove extra spaces\n",
        "            return text\n",
        "        return [clean_text(text) for text in X]\n",
        "\n",
        "class LowerCaseConverter(TransformerMixin):\n",
        "    def fit(self, X, y=None):\n",
        "        return self\n",
        "\n",
        "    def transform(self, X):\n",
        "        return [text.lower() for text in X]\n",
        "\n",
        "class StopwordRemover(TransformerMixin):\n",
        "    def fit(self, X, y=None):\n",
        "        return self\n",
        "\n",
        "    def transform(self, X):\n",
        "        stop_words = set(stopwords.words('english'))\n",
        "        return [' '.join([word for word in text.split() if word not in stop_words]) for text in X]\n",
        "\n",
        "class Tokenizer(TransformerMixin):\n",
        "    def fit(self, X, y=None):\n",
        "        return self\n",
        "\n",
        "    def transform(self, X):\n",
        "        return [word_tokenize(text) for text in X]\n",
        "\n",
        "class Lemmatizer(TransformerMixin):\n",
        "    def fit(self, X, y=None):\n",
        "        return self\n",
        "\n",
        "    def transform(self, X):\n",
        "        lemmatizer = WordNetLemmatizer()\n",
        "        # Process each token list and lemmatize tokens\n",
        "        return [[lemmatizer.lemmatize(word) for word in tokens] for tokens in X]\n",
        "\n"
      ]
    },
    {
      "cell_type": "code",
      "execution_count": 26,
      "metadata": {
        "colab": {
          "base_uri": "https://localhost:8080/",
          "height": 206
        },
        "id": "6RxmHT24Wvyn",
        "outputId": "560333c6-5b77-4dac-ef30-fa4115f18a7e"
      },
      "outputs": [
        {
          "output_type": "execute_result",
          "data": {
            "text/plain": [
              "                                              tweets  \\\n",
              "0  .@wesley83 I have a 3G iPhone. After 3 hrs twe...   \n",
              "1  @jessedee Know about @fludapp ? Awesome iPad/i...   \n",
              "2  @swonderlin Can not wait for #iPad 2 also. The...   \n",
              "3  @sxsw I hope this year's festival isn't as cra...   \n",
              "4  @sxtxstate great stuff on Fri #SXSW: Marissa M...   \n",
              "\n",
              "                                      cleaned_tweets  \n",
              "0  g iphone hr tweeting dead need upgrade plugin ...  \n",
              "1  know awesome ipadiphone app youll likely appre...  \n",
              "2                                     wait also sale  \n",
              "3     hope year festival isnt crashy year iphone app  \n",
              "4  great stuff fri marissa mayer google tim oreil...  "
            ],
            "text/html": [
              "\n",
              "  <div id=\"df-ba4b0685-f80e-443f-bb30-6d1432d098de\" class=\"colab-df-container\">\n",
              "    <div>\n",
              "<style scoped>\n",
              "    .dataframe tbody tr th:only-of-type {\n",
              "        vertical-align: middle;\n",
              "    }\n",
              "\n",
              "    .dataframe tbody tr th {\n",
              "        vertical-align: top;\n",
              "    }\n",
              "\n",
              "    .dataframe thead th {\n",
              "        text-align: right;\n",
              "    }\n",
              "</style>\n",
              "<table border=\"1\" class=\"dataframe\">\n",
              "  <thead>\n",
              "    <tr style=\"text-align: right;\">\n",
              "      <th></th>\n",
              "      <th>tweets</th>\n",
              "      <th>cleaned_tweets</th>\n",
              "    </tr>\n",
              "  </thead>\n",
              "  <tbody>\n",
              "    <tr>\n",
              "      <th>0</th>\n",
              "      <td>.@wesley83 I have a 3G iPhone. After 3 hrs twe...</td>\n",
              "      <td>g iphone hr tweeting dead need upgrade plugin ...</td>\n",
              "    </tr>\n",
              "    <tr>\n",
              "      <th>1</th>\n",
              "      <td>@jessedee Know about @fludapp ? Awesome iPad/i...</td>\n",
              "      <td>know awesome ipadiphone app youll likely appre...</td>\n",
              "    </tr>\n",
              "    <tr>\n",
              "      <th>2</th>\n",
              "      <td>@swonderlin Can not wait for #iPad 2 also. The...</td>\n",
              "      <td>wait also sale</td>\n",
              "    </tr>\n",
              "    <tr>\n",
              "      <th>3</th>\n",
              "      <td>@sxsw I hope this year's festival isn't as cra...</td>\n",
              "      <td>hope year festival isnt crashy year iphone app</td>\n",
              "    </tr>\n",
              "    <tr>\n",
              "      <th>4</th>\n",
              "      <td>@sxtxstate great stuff on Fri #SXSW: Marissa M...</td>\n",
              "      <td>great stuff fri marissa mayer google tim oreil...</td>\n",
              "    </tr>\n",
              "  </tbody>\n",
              "</table>\n",
              "</div>\n",
              "    <div class=\"colab-df-buttons\">\n",
              "\n",
              "  <div class=\"colab-df-container\">\n",
              "    <button class=\"colab-df-convert\" onclick=\"convertToInteractive('df-ba4b0685-f80e-443f-bb30-6d1432d098de')\"\n",
              "            title=\"Convert this dataframe to an interactive table.\"\n",
              "            style=\"display:none;\">\n",
              "\n",
              "  <svg xmlns=\"http://www.w3.org/2000/svg\" height=\"24px\" viewBox=\"0 -960 960 960\">\n",
              "    <path d=\"M120-120v-720h720v720H120Zm60-500h600v-160H180v160Zm220 220h160v-160H400v160Zm0 220h160v-160H400v160ZM180-400h160v-160H180v160Zm440 0h160v-160H620v160ZM180-180h160v-160H180v160Zm440 0h160v-160H620v160Z\"/>\n",
              "  </svg>\n",
              "    </button>\n",
              "\n",
              "  <style>\n",
              "    .colab-df-container {\n",
              "      display:flex;\n",
              "      gap: 12px;\n",
              "    }\n",
              "\n",
              "    .colab-df-convert {\n",
              "      background-color: #E8F0FE;\n",
              "      border: none;\n",
              "      border-radius: 50%;\n",
              "      cursor: pointer;\n",
              "      display: none;\n",
              "      fill: #1967D2;\n",
              "      height: 32px;\n",
              "      padding: 0 0 0 0;\n",
              "      width: 32px;\n",
              "    }\n",
              "\n",
              "    .colab-df-convert:hover {\n",
              "      background-color: #E2EBFA;\n",
              "      box-shadow: 0px 1px 2px rgba(60, 64, 67, 0.3), 0px 1px 3px 1px rgba(60, 64, 67, 0.15);\n",
              "      fill: #174EA6;\n",
              "    }\n",
              "\n",
              "    .colab-df-buttons div {\n",
              "      margin-bottom: 4px;\n",
              "    }\n",
              "\n",
              "    [theme=dark] .colab-df-convert {\n",
              "      background-color: #3B4455;\n",
              "      fill: #D2E3FC;\n",
              "    }\n",
              "\n",
              "    [theme=dark] .colab-df-convert:hover {\n",
              "      background-color: #434B5C;\n",
              "      box-shadow: 0px 1px 3px 1px rgba(0, 0, 0, 0.15);\n",
              "      filter: drop-shadow(0px 1px 2px rgba(0, 0, 0, 0.3));\n",
              "      fill: #FFFFFF;\n",
              "    }\n",
              "  </style>\n",
              "\n",
              "    <script>\n",
              "      const buttonEl =\n",
              "        document.querySelector('#df-ba4b0685-f80e-443f-bb30-6d1432d098de button.colab-df-convert');\n",
              "      buttonEl.style.display =\n",
              "        google.colab.kernel.accessAllowed ? 'block' : 'none';\n",
              "\n",
              "      async function convertToInteractive(key) {\n",
              "        const element = document.querySelector('#df-ba4b0685-f80e-443f-bb30-6d1432d098de');\n",
              "        const dataTable =\n",
              "          await google.colab.kernel.invokeFunction('convertToInteractive',\n",
              "                                                    [key], {});\n",
              "        if (!dataTable) return;\n",
              "\n",
              "        const docLinkHtml = 'Like what you see? Visit the ' +\n",
              "          '<a target=\"_blank\" href=https://colab.research.google.com/notebooks/data_table.ipynb>data table notebook</a>'\n",
              "          + ' to learn more about interactive tables.';\n",
              "        element.innerHTML = '';\n",
              "        dataTable['output_type'] = 'display_data';\n",
              "        await google.colab.output.renderOutput(dataTable, element);\n",
              "        const docLink = document.createElement('div');\n",
              "        docLink.innerHTML = docLinkHtml;\n",
              "        element.appendChild(docLink);\n",
              "      }\n",
              "    </script>\n",
              "  </div>\n",
              "\n",
              "\n",
              "<div id=\"df-d054ed16-63ec-49fc-83f3-e2a0aa90993e\">\n",
              "  <button class=\"colab-df-quickchart\" onclick=\"quickchart('df-d054ed16-63ec-49fc-83f3-e2a0aa90993e')\"\n",
              "            title=\"Suggest charts\"\n",
              "            style=\"display:none;\">\n",
              "\n",
              "<svg xmlns=\"http://www.w3.org/2000/svg\" height=\"24px\"viewBox=\"0 0 24 24\"\n",
              "     width=\"24px\">\n",
              "    <g>\n",
              "        <path d=\"M19 3H5c-1.1 0-2 .9-2 2v14c0 1.1.9 2 2 2h14c1.1 0 2-.9 2-2V5c0-1.1-.9-2-2-2zM9 17H7v-7h2v7zm4 0h-2V7h2v10zm4 0h-2v-4h2v4z\"/>\n",
              "    </g>\n",
              "</svg>\n",
              "  </button>\n",
              "\n",
              "<style>\n",
              "  .colab-df-quickchart {\n",
              "      --bg-color: #E8F0FE;\n",
              "      --fill-color: #1967D2;\n",
              "      --hover-bg-color: #E2EBFA;\n",
              "      --hover-fill-color: #174EA6;\n",
              "      --disabled-fill-color: #AAA;\n",
              "      --disabled-bg-color: #DDD;\n",
              "  }\n",
              "\n",
              "  [theme=dark] .colab-df-quickchart {\n",
              "      --bg-color: #3B4455;\n",
              "      --fill-color: #D2E3FC;\n",
              "      --hover-bg-color: #434B5C;\n",
              "      --hover-fill-color: #FFFFFF;\n",
              "      --disabled-bg-color: #3B4455;\n",
              "      --disabled-fill-color: #666;\n",
              "  }\n",
              "\n",
              "  .colab-df-quickchart {\n",
              "    background-color: var(--bg-color);\n",
              "    border: none;\n",
              "    border-radius: 50%;\n",
              "    cursor: pointer;\n",
              "    display: none;\n",
              "    fill: var(--fill-color);\n",
              "    height: 32px;\n",
              "    padding: 0;\n",
              "    width: 32px;\n",
              "  }\n",
              "\n",
              "  .colab-df-quickchart:hover {\n",
              "    background-color: var(--hover-bg-color);\n",
              "    box-shadow: 0 1px 2px rgba(60, 64, 67, 0.3), 0 1px 3px 1px rgba(60, 64, 67, 0.15);\n",
              "    fill: var(--button-hover-fill-color);\n",
              "  }\n",
              "\n",
              "  .colab-df-quickchart-complete:disabled,\n",
              "  .colab-df-quickchart-complete:disabled:hover {\n",
              "    background-color: var(--disabled-bg-color);\n",
              "    fill: var(--disabled-fill-color);\n",
              "    box-shadow: none;\n",
              "  }\n",
              "\n",
              "  .colab-df-spinner {\n",
              "    border: 2px solid var(--fill-color);\n",
              "    border-color: transparent;\n",
              "    border-bottom-color: var(--fill-color);\n",
              "    animation:\n",
              "      spin 1s steps(1) infinite;\n",
              "  }\n",
              "\n",
              "  @keyframes spin {\n",
              "    0% {\n",
              "      border-color: transparent;\n",
              "      border-bottom-color: var(--fill-color);\n",
              "      border-left-color: var(--fill-color);\n",
              "    }\n",
              "    20% {\n",
              "      border-color: transparent;\n",
              "      border-left-color: var(--fill-color);\n",
              "      border-top-color: var(--fill-color);\n",
              "    }\n",
              "    30% {\n",
              "      border-color: transparent;\n",
              "      border-left-color: var(--fill-color);\n",
              "      border-top-color: var(--fill-color);\n",
              "      border-right-color: var(--fill-color);\n",
              "    }\n",
              "    40% {\n",
              "      border-color: transparent;\n",
              "      border-right-color: var(--fill-color);\n",
              "      border-top-color: var(--fill-color);\n",
              "    }\n",
              "    60% {\n",
              "      border-color: transparent;\n",
              "      border-right-color: var(--fill-color);\n",
              "    }\n",
              "    80% {\n",
              "      border-color: transparent;\n",
              "      border-right-color: var(--fill-color);\n",
              "      border-bottom-color: var(--fill-color);\n",
              "    }\n",
              "    90% {\n",
              "      border-color: transparent;\n",
              "      border-bottom-color: var(--fill-color);\n",
              "    }\n",
              "  }\n",
              "</style>\n",
              "\n",
              "  <script>\n",
              "    async function quickchart(key) {\n",
              "      const quickchartButtonEl =\n",
              "        document.querySelector('#' + key + ' button');\n",
              "      quickchartButtonEl.disabled = true;  // To prevent multiple clicks.\n",
              "      quickchartButtonEl.classList.add('colab-df-spinner');\n",
              "      try {\n",
              "        const charts = await google.colab.kernel.invokeFunction(\n",
              "            'suggestCharts', [key], {});\n",
              "      } catch (error) {\n",
              "        console.error('Error during call to suggestCharts:', error);\n",
              "      }\n",
              "      quickchartButtonEl.classList.remove('colab-df-spinner');\n",
              "      quickchartButtonEl.classList.add('colab-df-quickchart-complete');\n",
              "    }\n",
              "    (() => {\n",
              "      let quickchartButtonEl =\n",
              "        document.querySelector('#df-d054ed16-63ec-49fc-83f3-e2a0aa90993e button');\n",
              "      quickchartButtonEl.style.display =\n",
              "        google.colab.kernel.accessAllowed ? 'block' : 'none';\n",
              "    })();\n",
              "  </script>\n",
              "</div>\n",
              "\n",
              "    </div>\n",
              "  </div>\n"
            ],
            "application/vnd.google.colaboratory.intrinsic+json": {
              "type": "dataframe",
              "summary": "{\n  \"name\": \"df[['tweets', 'cleaned_tweets']]\",\n  \"rows\": 5,\n  \"fields\": [\n    {\n      \"column\": \"tweets\",\n      \"properties\": {\n        \"dtype\": \"string\",\n        \"num_unique_values\": 5,\n        \"samples\": [\n          \"@jessedee Know about @fludapp ? Awesome iPad/iPhone app that you'll likely appreciate for its design. Also, they're giving free Ts at #SXSW\",\n          \"@sxtxstate great stuff on Fri #SXSW: Marissa Mayer (Google), Tim O'Reilly (tech books/conferences) &amp; Matt Mullenweg (Wordpress)\",\n          \"@swonderlin Can not wait for #iPad 2 also. They should sale them down at #SXSW.\"\n        ],\n        \"semantic_type\": \"\",\n        \"description\": \"\"\n      }\n    },\n    {\n      \"column\": \"cleaned_tweets\",\n      \"properties\": {\n        \"dtype\": \"string\",\n        \"num_unique_values\": 5,\n        \"samples\": [\n          \"know awesome ipadiphone app youll likely appreciate design also theyre giving free t\",\n          \"great stuff fri marissa mayer google tim oreilly tech booksconferences amp matt mullenweg wordpress\",\n          \"wait also sale\"\n        ],\n        \"semantic_type\": \"\",\n        \"description\": \"\"\n      }\n    }\n  ]\n}"
            }
          },
          "metadata": {},
          "execution_count": 26
        }
      ],
      "source": [
        "# Pipeline for text preprocessing\n",
        "text_preprocessing_pipeline = Pipeline([\n",
        "    ('cleaner', TextCleaner()),\n",
        "    ('lower_case_converter', LowerCaseConverter()),\n",
        "    ('stopwords_remover', StopwordRemover()),\n",
        "    ('tokenizer', Tokenizer()),\n",
        "    ('lemmatizer', Lemmatizer())\n",
        "])\n",
        "\n",
        "df['processed_tweets'] = text_preprocessing_pipeline.fit_transform(df['tweets'])\n",
        "\n",
        "df['cleaned_tweets'] = df['processed_tweets'].apply(lambda tokens: ' '.join(tokens))\n",
        "\n",
        "df[['tweets', 'cleaned_tweets']].head(5)\n"
      ]
    },
    {
      "cell_type": "code",
      "execution_count": 27,
      "metadata": {
        "colab": {
          "base_uri": "https://localhost:8080/",
          "height": 444
        },
        "id": "FWTVF5cZWd3p",
        "outputId": "049acad5-788a-418d-fc99-78356f62e8bb"
      },
      "outputs": [
        {
          "output_type": "display_data",
          "data": {
            "text/plain": [
              "<Figure size 1000x500 with 1 Axes>"
            ],
            "image/png": "[encoded data removed]"
          },
          "metadata": {}
        }
      ],
      "source": [
        "from wordcloud import WordCloud\n",
        "\n",
        "# Combine all tweets into a single string for word cloud\n",
        "all_words = ' '.join(df['cleaned_tweets'])\n",
        "\n",
        "# Generate word cloud\n",
        "wordcloud = WordCloud(width=800, height=400, background_color='white').generate(all_words)\n",
        "\n",
        "# Plot word cloud\n",
        "plt.figure(figsize=(10, 5))\n",
        "plt.imshow(wordcloud, interpolation='bilinear')\n",
        "plt.axis('off')\n",
        "plt.title('Most Common Words in Tweets')\n",
        "plt.show()\n"
      ]
    },
    {
      "cell_type": "markdown",
      "metadata": {
        "id": "zhXbUx4jbSai"
      },
      "source": [
        "#### 6.Feature Extraction"
      ]
    },
    {
      "cell_type": "code",
      "execution_count": 80,
      "metadata": {
        "id": "_yqcN9hScZgT"
      },
      "outputs": [],
      "source": [
        "from sklearn.preprocessing import LabelEncoder\n",
        "from sklearn.model_selection import train_test_split, GridSearchCV\n",
        "from sklearn.model_selection import RandomizedSearchCV\n",
        "from sklearn.feature_extraction.text import TfidfVectorizer, CountVectorizer\n",
        "from sklearn.linear_model import LogisticRegression\n",
        "from sklearn.ensemble import RandomForestClassifier\n",
        "from sklearn.naive_bayes import MultinomialNB\n",
        "import xgboost as xgb\n",
        "from sklearn.svm import SVC\n",
        "from sklearn.metrics import accuracy_score, classification_report, confusion_matrix\n",
        "from imblearn.over_sampling import SMOTE\n",
        "from imblearn.pipeline import Pipeline as ImbPipeline\n",
        "from sklearn.metrics import recall_score\n",
        "from sklearn.tree import DecisionTreeClassifier\n",
        "import pickle"
      ]
    },
    {
      "cell_type": "code",
      "execution_count": 38,
      "metadata": {
        "colab": {
          "base_uri": "https://localhost:8080/",
          "height": 362
        },
        "id": "9lZ3FtoJcYdO",
        "outputId": "6437b1fc-4f81-476e-da7e-17166acd1978"
      },
      "outputs": [
        {
          "output_type": "execute_result",
          "data": {
            "text/plain": [
              "                                                 tweets product  \\\n",
              "9088                      Ipad everywhere. #SXSW {link}    iPad   \n",
              "9089  Wave, buzz... RT @mention We interrupt your re...  Google   \n",
              "9090  Google's Zeiger, a physician never reported po...  Google   \n",
              "9091  Some Verizon iPhone customers complained their...  iPhone   \n",
              "9092  Ï¡Ïàü_ÊÎÒ£Áââ_£â_ÛâRT @...  Google   \n",
              "\n",
              "                                 emotion sentiment  tweet_length  \\\n",
              "9088                    Positive emotion  positive             4   \n",
              "9089  No emotion toward brand or product   neutral            18   \n",
              "9090  No emotion toward brand or product   neutral            19   \n",
              "9091  No emotion toward brand or product   neutral            23   \n",
              "9092  No emotion toward brand or product   neutral             9   \n",
              "\n",
              "                                       processed_tweets  \\\n",
              "9088                           [ipad, everywhere, link]   \n",
              "9089  [wave, buzz, rt, interrupt, regularly, schedul...   \n",
              "9090  [google, zeiger, physician, never, reported, p...   \n",
              "9091  [verizon, iphone, customer, complained, time, ...   \n",
              "9092           [rt, google, test, checkin, offer, link]   \n",
              "\n",
              "                                         cleaned_tweets  sentiment_enc  \n",
              "9088                               ipad everywhere link              2  \n",
              "9089  wave buzz rt interrupt regularly scheduled gee...              1  \n",
              "9090  google zeiger physician never reported potenti...              1  \n",
              "9091  verizon iphone customer complained time fell b...              1  \n",
              "9092                  rt google test checkin offer link              1  "
            ],
            "text/html": [
              "\n",
              "  <div id=\"df-d130ed39-4a9f-4f80-88d8-873b198df8f1\" class=\"colab-df-container\">\n",
              "    <div>\n",
              "<style scoped>\n",
              "    .dataframe tbody tr th:only-of-type {\n",
              "        vertical-align: middle;\n",
              "    }\n",
              "\n",
              "    .dataframe tbody tr th {\n",
              "        vertical-align: top;\n",
              "    }\n",
              "\n",
              "    .dataframe thead th {\n",
              "        text-align: right;\n",
              "    }\n",
              "</style>\n",
              "<table border=\"1\" class=\"dataframe\">\n",
              "  <thead>\n",
              "    <tr style=\"text-align: right;\">\n",
              "      <th></th>\n",
              "      <th>tweets</th>\n",
              "      <th>product</th>\n",
              "      <th>emotion</th>\n",
              "      <th>sentiment</th>\n",
              "      <th>tweet_length</th>\n",
              "      <th>processed_tweets</th>\n",
              "      <th>cleaned_tweets</th>\n",
              "      <th>sentiment_enc</th>\n",
              "    </tr>\n",
              "  </thead>\n",
              "  <tbody>\n",
              "    <tr>\n",
              "      <th>9088</th>\n",
              "      <td>Ipad everywhere. #SXSW {link}</td>\n",
              "      <td>iPad</td>\n",
              "      <td>Positive emotion</td>\n",
              "      <td>positive</td>\n",
              "      <td>4</td>\n",
              "      <td>[ipad, everywhere, link]</td>\n",
              "      <td>ipad everywhere link</td>\n",
              "      <td>2</td>\n",
              "    </tr>\n",
              "    <tr>\n",
              "      <th>9089</th>\n",
              "      <td>Wave, buzz... RT @mention We interrupt your re...</td>\n",
              "      <td>Google</td>\n",
              "      <td>No emotion toward brand or product</td>\n",
              "      <td>neutral</td>\n",
              "      <td>18</td>\n",
              "      <td>[wave, buzz, rt, interrupt, regularly, schedul...</td>\n",
              "      <td>wave buzz rt interrupt regularly scheduled gee...</td>\n",
              "      <td>1</td>\n",
              "    </tr>\n",
              "    <tr>\n",
              "      <th>9090</th>\n",
              "      <td>Google's Zeiger, a physician never reported po...</td>\n",
              "      <td>Google</td>\n",
              "      <td>No emotion toward brand or product</td>\n",
              "      <td>neutral</td>\n",
              "      <td>19</td>\n",
              "      <td>[google, zeiger, physician, never, reported, p...</td>\n",
              "      <td>google zeiger physician never reported potenti...</td>\n",
              "      <td>1</td>\n",
              "    </tr>\n",
              "    <tr>\n",
              "      <th>9091</th>\n",
              "      <td>Some Verizon iPhone customers complained their...</td>\n",
              "      <td>iPhone</td>\n",
              "      <td>No emotion toward brand or product</td>\n",
              "      <td>neutral</td>\n",
              "      <td>23</td>\n",
              "      <td>[verizon, iphone, customer, complained, time, ...</td>\n",
              "      <td>verizon iphone customer complained time fell b...</td>\n",
              "      <td>1</td>\n",
              "    </tr>\n",
              "    <tr>\n",
              "      <th>9092</th>\n",
              "      <td>Ï¡Ïàü_ÊÎÒ£Áââ_£â_ÛâRT @...</td>\n",
              "      <td>Google</td>\n",
              "      <td>No emotion toward brand or product</td>\n",
              "      <td>neutral</td>\n",
              "      <td>9</td>\n",
              "      <td>[rt, google, test, checkin, offer, link]</td>\n",
              "      <td>rt google test checkin offer link</td>\n",
              "      <td>1</td>\n",
              "    </tr>\n",
              "  </tbody>\n",
              "</table>\n",
              "</div>\n",
              "    <div class=\"colab-df-buttons\">\n",
              "\n",
              "  <div class=\"colab-df-container\">\n",
              "    <button class=\"colab-df-convert\" onclick=\"convertToInteractive('df-d130ed39-4a9f-4f80-88d8-873b198df8f1')\"\n",
              "            title=\"Convert this dataframe to an interactive table.\"\n",
              "            style=\"display:none;\">\n",
              "\n",
              "  <svg xmlns=\"http://www.w3.org/2000/svg\" height=\"24px\" viewBox=\"0 -960 960 960\">\n",
              "    <path d=\"M120-120v-720h720v720H120Zm60-500h600v-160H180v160Zm220 220h160v-160H400v160Zm0 220h160v-160H400v160ZM180-400h160v-160H180v160Zm440 0h160v-160H620v160ZM180-180h160v-160H180v160Zm440 0h160v-160H620v160Z\"/>\n",
              "  </svg>\n",
              "    </button>\n",
              "\n",
              "  <style>\n",
              "    .colab-df-container {\n",
              "      display:flex;\n",
              "      gap: 12px;\n",
              "    }\n",
              "\n",
              "    .colab-df-convert {\n",
              "      background-color: #E8F0FE;\n",
              "      border: none;\n",
              "      border-radius: 50%;\n",
              "      cursor: pointer;\n",
              "      display: none;\n",
              "      fill: #1967D2;\n",
              "      height: 32px;\n",
              "      padding: 0 0 0 0;\n",
              "      width: 32px;\n",
              "    }\n",
              "\n",
              "    .colab-df-convert:hover {\n",
              "      background-color: #E2EBFA;\n",
              "      box-shadow: 0px 1px 2px rgba(60, 64, 67, 0.3), 0px 1px 3px 1px rgba(60, 64, 67, 0.15);\n",
              "      fill: #174EA6;\n",
              "    }\n",
              "\n",
              "    .colab-df-buttons div {\n",
              "      margin-bottom: 4px;\n",
              "    }\n",
              "\n",
              "    [theme=dark] .colab-df-convert {\n",
              "      background-color: #3B4455;\n",
              "      fill: #D2E3FC;\n",
              "    }\n",
              "\n",
              "    [theme=dark] .colab-df-convert:hover {\n",
              "      background-color: #434B5C;\n",
              "      box-shadow: 0px 1px 3px 1px rgba(0, 0, 0, 0.15);\n",
              "      filter: drop-shadow(0px 1px 2px rgba(0, 0, 0, 0.3));\n",
              "      fill: #FFFFFF;\n",
              "    }\n",
              "  </style>\n",
              "\n",
              "    <script>\n",
              "      const buttonEl =\n",
              "        document.querySelector('#df-d130ed39-4a9f-4f80-88d8-873b198df8f1 button.colab-df-convert');\n",
              "      buttonEl.style.display =\n",
              "        google.colab.kernel.accessAllowed ? 'block' : 'none';\n",
              "\n",
              "      async function convertToInteractive(key) {\n",
              "        const element = document.querySelector('#df-d130ed39-4a9f-4f80-88d8-873b198df8f1');\n",
              "        const dataTable =\n",
              "          await google.colab.kernel.invokeFunction('convertToInteractive',\n",
              "                                                    [key], {});\n",
              "        if (!dataTable) return;\n",
              "\n",
              "        const docLinkHtml = 'Like what you see? Visit the ' +\n",
              "          '<a target=\"_blank\" href=https://colab.research.google.com/notebooks/data_table.ipynb>data table notebook</a>'\n",
              "          + ' to learn more about interactive tables.';\n",
              "        element.innerHTML = '';\n",
              "        dataTable['output_type'] = 'display_data';\n",
              "        await google.colab.output.renderOutput(dataTable, element);\n",
              "        const docLink = document.createElement('div');\n",
              "        docLink.innerHTML = docLinkHtml;\n",
              "        element.appendChild(docLink);\n",
              "      }\n",
              "    </script>\n",
              "  </div>\n",
              "\n",
              "\n",
              "<div id=\"df-fe416ad0-4ae4-40b1-ba1f-02f2249bbd7a\">\n",
              "  <button class=\"colab-df-quickchart\" onclick=\"quickchart('df-fe416ad0-4ae4-40b1-ba1f-02f2249bbd7a')\"\n",
              "            title=\"Suggest charts\"\n",
              "            style=\"display:none;\">\n",
              "\n",
              "<svg xmlns=\"http://www.w3.org/2000/svg\" height=\"24px\"viewBox=\"0 0 24 24\"\n",
              "     width=\"24px\">\n",
              "    <g>\n",
              "        <path d=\"M19 3H5c-1.1 0-2 .9-2 2v14c0 1.1.9 2 2 2h14c1.1 0 2-.9 2-2V5c0-1.1-.9-2-2-2zM9 17H7v-7h2v7zm4 0h-2V7h2v10zm4 0h-2v-4h2v4z\"/>\n",
              "    </g>\n",
              "</svg>\n",
              "  </button>\n",
              "\n",
              "<style>\n",
              "  .colab-df-quickchart {\n",
              "      --bg-color: #E8F0FE;\n",
              "      --fill-color: #1967D2;\n",
              "      --hover-bg-color: #E2EBFA;\n",
              "      --hover-fill-color: #174EA6;\n",
              "      --disabled-fill-color: #AAA;\n",
              "      --disabled-bg-color: #DDD;\n",
              "  }\n",
              "\n",
              "  [theme=dark] .colab-df-quickchart {\n",
              "      --bg-color: #3B4455;\n",
              "      --fill-color: #D2E3FC;\n",
              "      --hover-bg-color: #434B5C;\n",
              "      --hover-fill-color: #FFFFFF;\n",
              "      --disabled-bg-color: #3B4455;\n",
              "      --disabled-fill-color: #666;\n",
              "  }\n",
              "\n",
              "  .colab-df-quickchart {\n",
              "    background-color: var(--bg-color);\n",
              "    border: none;\n",
              "    border-radius: 50%;\n",
              "    cursor: pointer;\n",
              "    display: none;\n",
              "    fill: var(--fill-color);\n",
              "    height: 32px;\n",
              "    padding: 0;\n",
              "    width: 32px;\n",
              "  }\n",
              "\n",
              "  .colab-df-quickchart:hover {\n",
              "    background-color: var(--hover-bg-color);\n",
              "    box-shadow: 0 1px 2px rgba(60, 64, 67, 0.3), 0 1px 3px 1px rgba(60, 64, 67, 0.15);\n",
              "    fill: var(--button-hover-fill-color);\n",
              "  }\n",
              "\n",
              "  .colab-df-quickchart-complete:disabled,\n",
              "  .colab-df-quickchart-complete:disabled:hover {\n",
              "    background-color: var(--disabled-bg-color);\n",
              "    fill: var(--disabled-fill-color);\n",
              "    box-shadow: none;\n",
              "  }\n",
              "\n",
              "  .colab-df-spinner {\n",
              "    border: 2px solid var(--fill-color);\n",
              "    border-color: transparent;\n",
              "    border-bottom-color: var(--fill-color);\n",
              "    animation:\n",
              "      spin 1s steps(1) infinite;\n",
              "  }\n",
              "\n",
              "  @keyframes spin {\n",
              "    0% {\n",
              "      border-color: transparent;\n",
              "      border-bottom-color: var(--fill-color);\n",
              "      border-left-color: var(--fill-color);\n",
              "    }\n",
              "    20% {\n",
              "      border-color: transparent;\n",
              "      border-left-color: var(--fill-color);\n",
              "      border-top-color: var(--fill-color);\n",
              "    }\n",
              "    30% {\n",
              "      border-color: transparent;\n",
              "      border-left-color: var(--fill-color);\n",
              "      border-top-color: var(--fill-color);\n",
              "      border-right-color: var(--fill-color);\n",
              "    }\n",
              "    40% {\n",
              "      border-color: transparent;\n",
              "      border-right-color: var(--fill-color);\n",
              "      border-top-color: var(--fill-color);\n",
              "    }\n",
              "    60% {\n",
              "      border-color: transparent;\n",
              "      border-right-color: var(--fill-color);\n",
              "    }\n",
              "    80% {\n",
              "      border-color: transparent;\n",
              "      border-right-color: var(--fill-color);\n",
              "      border-bottom-color: var(--fill-color);\n",
              "    }\n",
              "    90% {\n",
              "      border-color: transparent;\n",
              "      border-bottom-color: var(--fill-color);\n",
              "    }\n",
              "  }\n",
              "</style>\n",
              "\n",
              "  <script>\n",
              "    async function quickchart(key) {\n",
              "      const quickchartButtonEl =\n",
              "        document.querySelector('#' + key + ' button');\n",
              "      quickchartButtonEl.disabled = true;  // To prevent multiple clicks.\n",
              "      quickchartButtonEl.classList.add('colab-df-spinner');\n",
              "      try {\n",
              "        const charts = await google.colab.kernel.invokeFunction(\n",
              "            'suggestCharts', [key], {});\n",
              "      } catch (error) {\n",
              "        console.error('Error during call to suggestCharts:', error);\n",
              "      }\n",
              "      quickchartButtonEl.classList.remove('colab-df-spinner');\n",
              "      quickchartButtonEl.classList.add('colab-df-quickchart-complete');\n",
              "    }\n",
              "    (() => {\n",
              "      let quickchartButtonEl =\n",
              "        document.querySelector('#df-fe416ad0-4ae4-40b1-ba1f-02f2249bbd7a button');\n",
              "      quickchartButtonEl.style.display =\n",
              "        google.colab.kernel.accessAllowed ? 'block' : 'none';\n",
              "    })();\n",
              "  </script>\n",
              "</div>\n",
              "\n",
              "    </div>\n",
              "  </div>\n"
            ],
            "application/vnd.google.colaboratory.intrinsic+json": {
              "type": "dataframe",
              "summary": "{\n  \"name\": \"df\",\n  \"rows\": 5,\n  \"fields\": [\n    {\n      \"column\": \"tweets\",\n      \"properties\": {\n        \"dtype\": \"string\",\n        \"num_unique_values\": 5,\n        \"samples\": [\n          \"Wave, buzz... RT @mention We interrupt your regularly scheduled #sxsw geek programming with big news {link}  #google #circles\",\n          \"\\u008c\\u00cf\\u00a1\\u008e\\u00cf\\u00e0\\u008a\\u00fc_\\u008b\\u0081\\u00ca\\u008b\\u0081\\u00ce\\u008b\\u0081\\u00d2\\u008b\\u0081\\u00a3\\u008b\\u0081\\u00c1\\u008b\\u00e2\\u00e2\\u008b\\u0081_\\u008b\\u0081\\u00a3\\u008b\\u0081\\u008f\\u008b\\u00e2_\\u008b\\u00db\\u00e2RT @mention Google Tests \\u0089\\u00db\\u00cfCheck-in Offers\\u0089\\u00db\\u009d At #SXSW {link}\",\n          \"Google's Zeiger, a physician never reported potential AE. Yet FDA relies on physicians. &quot;We're operating w/out data.&quot; #sxsw #health2dev\"\n        ],\n        \"semantic_type\": \"\",\n        \"description\": \"\"\n      }\n    },\n    {\n      \"column\": \"product\",\n      \"properties\": {\n        \"dtype\": \"string\",\n        \"num_unique_values\": 3,\n        \"samples\": [\n          \"iPad\",\n          \"Google\",\n          \"iPhone\"\n        ],\n        \"semantic_type\": \"\",\n        \"description\": \"\"\n      }\n    },\n    {\n      \"column\": \"emotion\",\n      \"properties\": {\n        \"dtype\": \"category\",\n        \"num_unique_values\": 2,\n        \"samples\": [\n          \"No emotion toward brand or product\",\n          \"Positive emotion\"\n        ],\n        \"semantic_type\": \"\",\n        \"description\": \"\"\n      }\n    },\n    {\n      \"column\": \"sentiment\",\n      \"properties\": {\n        \"dtype\": \"category\",\n        \"num_unique_values\": 2,\n        \"samples\": [\n          \"neutral\",\n          \"positive\"\n        ],\n        \"semantic_type\": \"\",\n        \"description\": \"\"\n      }\n    },\n    {\n      \"column\": \"tweet_length\",\n      \"properties\": {\n        \"dtype\": \"number\",\n        \"std\": 7,\n        \"min\": 4,\n        \"max\": 23,\n        \"num_unique_values\": 5,\n        \"samples\": [\n          18,\n          9\n        ],\n        \"semantic_type\": \"\",\n        \"description\": \"\"\n      }\n    },\n    {\n      \"column\": \"processed_tweets\",\n      \"properties\": {\n        \"dtype\": \"object\",\n        \"semantic_type\": \"\",\n        \"description\": \"\"\n      }\n    },\n    {\n      \"column\": \"cleaned_tweets\",\n      \"properties\": {\n        \"dtype\": \"string\",\n        \"num_unique_values\": 5,\n        \"samples\": [\n          \"wave buzz rt interrupt regularly scheduled geek programming big news link\",\n          \"rt google test checkin offer link\"\n        ],\n        \"semantic_type\": \"\",\n        \"description\": \"\"\n      }\n    },\n    {\n      \"column\": \"sentiment_enc\",\n      \"properties\": {\n        \"dtype\": \"number\",\n        \"std\": 0,\n        \"min\": 1,\n        \"max\": 2,\n        \"num_unique_values\": 2,\n        \"samples\": [\n          1,\n          2\n        ],\n        \"semantic_type\": \"\",\n        \"description\": \"\"\n      }\n    }\n  ]\n}"
            }
          },
          "metadata": {},
          "execution_count": 38
        }
      ],
      "source": [
        "# Encode the target variable\n",
        "label_encoder = LabelEncoder()\n",
        "df['sentiment_enc'] = label_encoder.fit_transform(df['sentiment'])\n",
        "df.tail()"
      ]
    },
    {
      "cell_type": "markdown",
      "source": [
        "#### 7.Modelling\n"
      ],
      "metadata": {
        "id": "lCqIwQjQI8vC"
      }
    },
    {
      "cell_type": "markdown",
      "source": [
        "In this section we'll handle binary and multi-class classification\n",
        "The machine learning algorithims used in this section are:\n",
        "- RandomForest\n",
        "- Naive Bayes(MultinomialNB)\n",
        "- LogisticRegression\n",
        "- DecisionTrees\n",
        "- support vector machines (SVC)"
      ],
      "metadata": {
        "id": "aK7E8U2VJfQg"
      }
    },
    {
      "cell_type": "markdown",
      "metadata": {
        "id": "oObrEMg6bH1h"
      },
      "source": [
        "*A.Binary Classification*"
      ]
    },
    {
      "cell_type": "code",
      "execution_count": 39,
      "metadata": {
        "id": "vyGw8ESIf7TR"
      },
      "outputs": [],
      "source": [
        "# Filter the dataset to only include positive and negative sentiments\n",
        "binary_df = df[df['sentiment_enc'].isin([0, 1])].reset_index(drop=True)\n",
        "\n",
        "X_binary = binary_df['cleaned_tweets']\n",
        "y_binary = binary_df['sentiment_enc']\n",
        "\n",
        "X_train_bin, X_test_bin, y_train_bin, y_test_bin = train_test_split(X_binary, y_binary, test_size=0.2, random_state=42)\n"
      ]
    },
    {
      "cell_type": "code",
      "execution_count": 40,
      "metadata": {
        "colab": {
          "base_uri": "https://localhost:8080/"
        },
        "id": "NK1_cWeYq5Td",
        "outputId": "a5dc85e3-3d3e-435f-fb4c-a496c761ffe1"
      },
      "outputs": [
        {
          "output_type": "stream",
          "name": "stdout",
          "text": [
            "Logistic Regression Binary Classification Accuracy: 0.87\n",
            "Logistic Regression Classification Report:\n",
            "               precision    recall  f1-score   support\n",
            "\n",
            "           0       0.41      0.63      0.50       106\n",
            "           1       0.96      0.90      0.93       935\n",
            "\n",
            "    accuracy                           0.87      1041\n",
            "   macro avg       0.68      0.76      0.71      1041\n",
            "weighted avg       0.90      0.87      0.88      1041\n",
            "\n",
            "Logistic Regression Confusion Matrix:\n",
            " [[ 67  39]\n",
            " [ 96 839]]\n"
          ]
        }
      ],
      "source": [
        "# pipeline with Logistic Regression\n",
        "binary_lr_pipeline = ImbPipeline([\n",
        "    ('tfidf', TfidfVectorizer()),\n",
        "    ('smote', SMOTE(random_state=42)),\n",
        "    ('lr', LogisticRegression(class_weight='balanced'))\n",
        "])\n",
        "\n",
        "# Fit the Logistic Regression pipeline to the training data\n",
        "binary_lr_pipeline.fit(X_train_bin, y_train_bin)\n",
        "\n",
        "#Predict on the test set\n",
        "y_pred_lr = binary_lr_pipeline.predict(X_test_bin)\n",
        "\n",
        "#Evaluation for Logistic Regression\n",
        "binary_accuracy_lr = accuracy_score(y_test_bin, y_pred_lr)\n",
        "print(f\"Logistic Regression Binary Classification Accuracy: {binary_accuracy_lr:.2f}\")\n",
        "print(\"Logistic Regression Classification Report:\\n\", classification_report(y_test_bin, y_pred_lr))\n",
        "print(\"Logistic Regression Confusion Matrix:\\n\", confusion_matrix(y_test_bin, y_pred_lr))\n"
      ]
    },
    {
      "cell_type": "code",
      "execution_count": 41,
      "metadata": {
        "colab": {
          "base_uri": "https://localhost:8080/"
        },
        "id": "eedgq2kKpdfk",
        "outputId": "44db5083-1b08-4b1d-c8d1-87a73c97558d"
      },
      "outputs": [
        {
          "output_type": "stream",
          "name": "stdout",
          "text": [
            "Fitting 5 folds for each of 8 candidates, totalling 40 fits\n",
            "Best Logistic Regression Binary Classification Accuracy: 0.90\n",
            "Best Logistic Regression Classification Report:\n",
            "               precision    recall  f1-score   support\n",
            "\n",
            "           0       0.50      0.52      0.51       106\n",
            "           1       0.95      0.94      0.94       935\n",
            "\n",
            "    accuracy                           0.90      1041\n",
            "   macro avg       0.72      0.73      0.72      1041\n",
            "weighted avg       0.90      0.90      0.90      1041\n",
            "\n",
            "Best Logistic Regression Confusion Matrix:\n",
            " [[ 55  51]\n",
            " [ 56 879]]\n"
          ]
        }
      ],
      "source": [
        "#Hyperparameter tuning\n",
        "lr_param_grid = {\n",
        "    'lr__C': [0.1, 1, 10, 100],\n",
        "    'lr__penalty': ['l2'],\n",
        "    'lr__solver': ['liblinear', 'lbfgs']\n",
        "}\n",
        "\n",
        "lr_grid_search = GridSearchCV(binary_lr_pipeline, lr_param_grid, cv=5, scoring='accuracy', n_jobs=-1, verbose=1)\n",
        "lr_grid_search.fit(X_train_bin, y_train_bin)\n",
        "\n",
        "# Prediction using the best model\n",
        "best_lr_model = lr_grid_search.best_estimator_\n",
        "\n",
        "y_pred_lr_best = best_lr_model.predict(X_test_bin)\n",
        "\n",
        "# Evaluation for the best Logistic Regression model\n",
        "binary_accuracy_lr_best = accuracy_score(y_test_bin, y_pred_lr_best)\n",
        "print(f\"Best Logistic Regression Binary Classification Accuracy: {binary_accuracy_lr_best:.2f}\")\n",
        "print(\"Best Logistic Regression Classification Report:\\n\", classification_report(y_test_bin, y_pred_lr_best))\n",
        "print(\"Best Logistic Regression Confusion Matrix:\\n\", confusion_matrix(y_test_bin, y_pred_lr_best))"
      ]
    },
    {
      "cell_type": "code",
      "execution_count": 42,
      "metadata": {
        "colab": {
          "base_uri": "https://localhost:8080/"
        },
        "id": "dqhqWZmeZ9-f",
        "outputId": "7dcb12c9-2054-4b93-a579-af57c7ae108c"
      },
      "outputs": [
        {
          "output_type": "stream",
          "name": "stdout",
          "text": [
            "SVM Binary Classification Accuracy: 0.91\n",
            "SVM Classification Report:\n",
            "               precision    recall  f1-score   support\n",
            "\n",
            "           0       0.66      0.24      0.35       106\n",
            "           1       0.92      0.99      0.95       935\n",
            "\n",
            "    accuracy                           0.91      1041\n",
            "   macro avg       0.79      0.61      0.65      1041\n",
            "weighted avg       0.89      0.91      0.89      1041\n",
            "\n",
            "SVM Confusion Matrix:\n",
            " [[ 25  81]\n",
            " [ 13 922]]\n"
          ]
        }
      ],
      "source": [
        "#Pipeline with SVM\n",
        "binary_svm_pipeline = ImbPipeline([\n",
        "    ('tfidf', TfidfVectorizer()),\n",
        "    ('smote', SMOTE(random_state=42)),\n",
        "    ('svm', SVC(class_weight='balanced', random_state=42))\n",
        "])\n",
        "\n",
        "binary_svm_pipeline.fit(X_train_bin, y_train_bin)\n",
        "\n",
        "#Predict on the test set\n",
        "y_pred_svm = binary_svm_pipeline.predict(X_test_bin)\n",
        "\n",
        "#Evaluation\n",
        "binary_accuracy_svm = accuracy_score(y_test_bin, y_pred_svm)\n",
        "print(f\"SVM Binary Classification Accuracy: {binary_accuracy_svm:.2f}\")\n",
        "print(\"SVM Classification Report:\\n\", classification_report(y_test_bin, y_pred_svm))\n",
        "print(\"SVM Confusion Matrix:\\n\", confusion_matrix(y_test_bin, y_pred_svm))\n"
      ]
    },
    {
      "cell_type": "code",
      "execution_count": 43,
      "metadata": {
        "colab": {
          "base_uri": "https://localhost:8080/"
        },
        "id": "8YgcdaxubAYB",
        "outputId": "8d11c52d-bd0f-4216-d19e-7aca0b33d9a7"
      },
      "outputs": [
        {
          "output_type": "stream",
          "name": "stdout",
          "text": [
            "Fitting 5 folds for each of 16 candidates, totalling 80 fits\n",
            "Best Logistic Regression Binary Classification Accuracy: 0.91\n",
            "Best Logistic Regression Classification Report:\n",
            "               precision    recall  f1-score   support\n",
            "\n",
            "           0       0.70      0.28      0.40       106\n",
            "           1       0.92      0.99      0.95       935\n",
            "\n",
            "    accuracy                           0.91      1041\n",
            "   macro avg       0.81      0.63      0.68      1041\n",
            "weighted avg       0.90      0.91      0.90      1041\n",
            "\n",
            "Best Logistic Regression Confusion Matrix:\n",
            " [[ 30  76]\n",
            " [ 13 922]]\n"
          ]
        }
      ],
      "source": [
        "# Hyperparameter tuning for SVM using GridSearchCV\n",
        "svm_param_grid = {\n",
        "    'svm__C': [0.1, 1, 10, 100],\n",
        "    'svm__gamma': ['scale', 'auto'],\n",
        "    'svm__kernel': ['linear', 'rbf'],\n",
        "}\n",
        "\n",
        "svm_grid_search = GridSearchCV(binary_svm_pipeline, svm_param_grid, cv=5, scoring='accuracy', n_jobs=-1, verbose=1)\n",
        "svm_grid_search.fit(X_train_bin, y_train_bin)\n",
        "# Use the best model from the grid search to make predictions\n",
        "best_svm_model = svm_grid_search.best_estimator_\n",
        "\n",
        "# Make predictions using the best Logistic Regression model\n",
        "y_pred_svm_best = best_svm_model.predict(X_test_bin)\n",
        "\n",
        "# Evaluation for the best Logistic Regression model\n",
        "binary_accuracy_svm_best = accuracy_score(y_test_bin, y_pred_svm_best)\n",
        "print(f\"Best Logistic Regression Binary Classification Accuracy: {binary_accuracy_svm_best:.2f}\")\n",
        "print(\"Best Logistic Regression Classification Report:\\n\", classification_report(y_test_bin, y_pred_svm_best))\n",
        "print(\"Best Logistic Regression Confusion Matrix:\\n\", confusion_matrix(y_test_bin, y_pred_svm_best))"
      ]
    },
    {
      "cell_type": "code",
      "execution_count": 44,
      "metadata": {
        "colab": {
          "base_uri": "https://localhost:8080/"
        },
        "id": "aMG0uCS0WRMl",
        "outputId": "7c15a998-7b0b-4d9b-99de-e3118219fe79"
      },
      "outputs": [
        {
          "output_type": "stream",
          "name": "stdout",
          "text": [
            "SVM is the better model.\n"
          ]
        }
      ],
      "source": [
        "# Compare the models\n",
        "if binary_accuracy_lr_best > binary_accuracy_svm_best:\n",
        "    print(\"Logistic Regression is the better model.\")\n",
        "else:\n",
        "    print(\"SVM is the better model.\")"
      ]
    },
    {
      "cell_type": "markdown",
      "metadata": {
        "id": "yd2mm9spwfMR"
      },
      "source": [
        "2. Multiclass Classification"
      ]
    },
    {
      "cell_type": "markdown",
      "source": [
        "#***countverization***"
      ],
      "metadata": {
        "id": "XdDGADdGxMf7"
      }
    },
    {
      "cell_type": "code",
      "source": [
        "X = df['cleaned_tweets']\n",
        "y = df['sentiment_enc']\n"
      ],
      "metadata": {
        "id": "zGYt9M8b3d7T"
      },
      "execution_count": 46,
      "outputs": []
    },
    {
      "cell_type": "code",
      "source": [
        "#countverization\n",
        "# Vectorization - CV\n",
        "cv = CountVectorizer()\n",
        "\n",
        "X_vec = cv.fit_transform(df['cleaned_tweets'])\n",
        "X_vec = pd.DataFrame.sparse.from_spmatrix(X_vec)\n",
        "X_vec.columns = sorted(cv.vocabulary_)\n",
        "X_vec.set_index(y.index, inplace=True)\n",
        "X_vec = X_vec.iloc[:, 160:]"
      ],
      "metadata": {
        "id": "lZYL7eqrzt5T"
      },
      "execution_count": 47,
      "outputs": []
    },
    {
      "cell_type": "code",
      "source": [
        "# SMOTE - CV\n",
        "smote = SMOTE()\n",
        "X_cv_smote, y_cv_smote = smote.fit_resample(X_vec, y)\n",
        "\n"
      ],
      "metadata": {
        "id": "Gea50ZraqxtO"
      },
      "execution_count": 48,
      "outputs": []
    },
    {
      "cell_type": "markdown",
      "source": [
        "Train Test split-CV"
      ],
      "metadata": {
        "id": "_Cj-eORTrwxi"
      }
    },
    {
      "cell_type": "code",
      "source": [
        "# Train Test and split - CV\n",
        "X_train_cv, X_test_cv, y_train_cv, y_test_cv = train_test_split(X_cv_smote, y_cv_smote, test_size=0.3, random_state=42)"
      ],
      "metadata": {
        "id": "eKrQh4Wsr1vm"
      },
      "execution_count": 49,
      "outputs": []
    },
    {
      "cell_type": "markdown",
      "source": [
        "#### ***TFIDF Vectorization***"
      ],
      "metadata": {
        "id": "r-fNcd9SsjT4"
      }
    },
    {
      "cell_type": "code",
      "source": [
        "# Vectorization - TFIDF\n",
        "tf = TfidfVectorizer()\n",
        "\n",
        "X_tf = tf.fit_transform(df['cleaned_tweets'])\n",
        "X_tf = pd.DataFrame.sparse.from_spmatrix(X_tf)\n",
        "X_tf.columns = sorted(tf.vocabulary_)\n",
        "X_tf.set_index(y.index, inplace=True)\n",
        "X_tf = X_tf.iloc[:, 160:]"
      ],
      "metadata": {
        "id": "93OBUvlYr6WZ"
      },
      "execution_count": 52,
      "outputs": []
    },
    {
      "cell_type": "code",
      "source": [
        "# SMOTE - TFIDF\n",
        "from imblearn.over_sampling import SMOTE\n",
        "smote = SMOTE(random_state=42)\n",
        "\n",
        "X_tf_smote, y_tf_smote = smote.fit_resample(X_tf, y)"
      ],
      "metadata": {
        "id": "wDUBbH5qsyLJ"
      },
      "execution_count": 54,
      "outputs": []
    },
    {
      "cell_type": "code",
      "source": [
        "# Train Test and Split - TFIDF\n",
        "X_train_tf, X_test_tf, y_train_tf, y_test_tf = train_test_split(X_tf_smote, y_tf_smote, test_size=0.3, random_state=42)"
      ],
      "metadata": {
        "id": "U1S9SIX6s9OH"
      },
      "execution_count": 55,
      "outputs": []
    },
    {
      "cell_type": "code",
      "source": [
        "def modelling(model, cv=False, tf=False):\n",
        "    if cv == True:\n",
        "        # Fit the instantiated model\n",
        "        model.fit(X_train_cv, y_train_cv)\n",
        "        # Predict\n",
        "        y_hat = model.predict(X_test_cv)\n",
        "        # Results\n",
        "        print(\"Count Vectorisation Results\\n\")\n",
        "        print(\"Main Metrics\")\n",
        "        print(\"-\"*12)\n",
        "        print(f\"Accuracy Score {round(accuracy_score(y_test_cv, y_hat), 3)}\")\n",
        "        # Use 'macro' averaging for multiclass classification\n",
        "        print(f\"Recall Score {round(recall_score(y_test_cv, y_hat, average='macro'), 3)}\")\n",
        "        # Classification Report\n",
        "        print(\"\\nClassification Report\")\n",
        "        print(classification_report(y_test_cv, y_hat))\n",
        "\n",
        "\n",
        "    elif tf == True:\n",
        "        # Fit the instantiated model\n",
        "        model.fit(X_train_tf, y_train_tf)\n",
        "        # Predict\n",
        "        y_hat = model.predict(X_test_tf)\n",
        "        # Results\n",
        "        print(\"---------\")\n",
        "        print(\"TFIDF Vectorisation Results\\n\")\n",
        "        print(\"Main Metrics\")\n",
        "        print(\"-\"*12)\n",
        "        print(f\"Accuracy Score {round(accuracy_score(y_test_tf, y_hat), 3)}\")\n",
        "        # Use 'macro' averaging for multiclass classification\n",
        "        print(f\"Recall Score {round(recall_score(y_test_tf, y_hat, average='macro'), 3)}\")\n",
        "        # Classification Report\n",
        "        print(\"\\nClassification Report\")\n",
        "        print(classification_report(y_test_tf, y_hat))\n",
        "\n",
        "def hyper_tuning(model, params, model_name=\"Random Forest\"):\n",
        "    \"\"\"This function optimises the base model with the parameters\n",
        "    passed as params\"\"\"\n",
        "    # Grid Search Base Model\n",
        "    grid_search_model = GridSearchCV(model, params, cv=5, scoring='accuracy')\n",
        "    # Count Vectorisation\n",
        "    # Perform grid search with 5-fold cross-validation for Count Vectorization\n",
        "    grid_search_rf_cv = grid_search_model.fit(X_train_cv, y_train_cv)\n",
        "\n",
        "    # Get the best model from grid search for Count Vectorization\n",
        "    best_rf_model_cv = grid_search_rf_cv.best_estimator_\n",
        "\n",
        "    # Predict on the test set using the best model for Count Vectorization\n",
        "    y_pred_cv = best_rf_model_cv.predict(X_test_cv)\n",
        "\n",
        "    # Calculate and print the accuracy for Count Vectorization\n",
        "    accuracy_cv = accuracy_score(y_test_cv, y_pred_cv)\n",
        "\n",
        "    # Calculate and print the recall for Count Vectorization\n",
        "    recall_cv = recall_score(y_test_cv, y_pred_cv, average ='macro')\n",
        "\n",
        "    # Results\n",
        "    print(\"Count Vectorisation Results\\n\")\n",
        "    print(f\"Best {model_name.title()} Model (Count Vectorization):\\n\", best_rf_model_cv)\n",
        "    print(f\"\\nTest Accuracy (Count Vectorization): {accuracy_cv:.3f}\")\n",
        "    print(f\"\\nTest Recall (Count Vectorization): {recall_cv:.3f}\")\n",
        "    print(\"---------\")\n",
        "\n",
        "    #TFIDF Vectorisation\n",
        "    grid_search_rf_tf = grid_search_model.fit(X_train_tf, y_train_tf)\n",
        "\n",
        "    # Get the best model from grid search for TF-IDF Vectorization\n",
        "    best_rf_model_tf = grid_search_rf_tf.best_estimator_\n",
        "\n",
        "    # Predict on the test set using the best model for TF-IDF Vectorization\n",
        "    y_pred_tf = best_rf_model_tf.predict(X_test_tf)\n",
        "\n",
        "    # Calculate and print the accuracy for TF-IDF Vectorization\n",
        "    accuracy_tf = accuracy_score(y_test_tf, y_pred_tf)\n",
        "\n",
        "    # Calculate and print the reacll for TF-IDF Vectorization\n",
        "    recall_tf= recall_score(y_test_tf, y_pred_tf, average ='macro')\n",
        "\n",
        "    # Results\n",
        "    print(\"\\n\\nTFIDF Vectorisation Results\\n\")\n",
        "    print(f\"Best {model_name.title()} Model (TFIDF Vectorization):\\n\", best_rf_model_tf)\n",
        "    print(f\"\\nTest Accuracy (TFIDF Vectorization): {accuracy_tf:.3f}\")\n",
        "    print(f\"\\nTest Recall (TFIDF Vectorization): {recall_tf:.3f}\")\n",
        "\n",
        "    # models = [best_rf_model_cv, best_rf_model_tf]\n",
        "\n",
        "    return best_rf_model_cv, best_rf_model_tf"
      ],
      "metadata": {
        "id": "o_PzTylatQpN"
      },
      "execution_count": 60,
      "outputs": []
    },
    {
      "cell_type": "markdown",
      "source": [
        "#### ***Model 1 - Multinomial Bayes - CV Data***"
      ],
      "metadata": {
        "id": "ozD9wmFzt3w-"
      }
    },
    {
      "cell_type": "code",
      "source": [
        "# Instantiate the multinomialnb model\n",
        "mnb = MultinomialNB()"
      ],
      "metadata": {
        "id": "iI4fqdBkt9Ow"
      },
      "execution_count": 61,
      "outputs": []
    },
    {
      "cell_type": "code",
      "source": [
        "# Classification report of the multinomial using the Count Vectorization\n",
        "modelling(model=mnb, cv=True)\n",
        "# Classification report of the multinomial using the TFIDF Vectorization\n",
        "modelling(model=mnb, tf=True)"
      ],
      "metadata": {
        "id": "SZxj-oI3uKO_",
        "outputId": "91ee92db-7ef2-4259-f44b-c4d4e0dd4765",
        "colab": {
          "base_uri": "https://localhost:8080/"
        }
      },
      "execution_count": 62,
      "outputs": [
        {
          "output_type": "stream",
          "name": "stdout",
          "text": [
            "Count Vectorisation Results\n",
            "\n",
            "Main Metrics\n",
            "------------\n",
            "Accuracy Score 0.603\n",
            "Recall Score 0.604\n",
            "\n",
            "Classification Report\n",
            "              precision    recall  f1-score   support\n",
            "\n",
            "           0       0.73      0.56      0.63      1412\n",
            "           1       0.63      0.60      0.62      1403\n",
            "           2       0.50      0.66      0.57      1355\n",
            "\n",
            "    accuracy                           0.60      4170\n",
            "   macro avg       0.62      0.60      0.61      4170\n",
            "weighted avg       0.62      0.60      0.61      4170\n",
            "\n",
            "---------\n",
            "TFIDF Vectorisation Results\n",
            "\n",
            "Main Metrics\n",
            "------------\n",
            "Accuracy Score 0.758\n",
            "Recall Score 0.757\n",
            "\n",
            "Classification Report\n",
            "              precision    recall  f1-score   support\n",
            "\n",
            "           0       0.86      0.94      0.90      1412\n",
            "           1       0.71      0.60      0.65      1403\n",
            "           2       0.69      0.73      0.71      1355\n",
            "\n",
            "    accuracy                           0.76      4170\n",
            "   macro avg       0.75      0.76      0.75      4170\n",
            "weighted avg       0.75      0.76      0.75      4170\n",
            "\n"
          ]
        }
      ]
    },
    {
      "cell_type": "markdown",
      "source": [
        "#### ***Hyperparameter Tuning the MNB Model***\n"
      ],
      "metadata": {
        "id": "RSfM_EGpuNDi"
      }
    },
    {
      "cell_type": "code",
      "source": [
        "# params\n",
        "mnb_param_grid = {\n",
        "    'alpha': [0.01, 0.1]\n",
        "}\n",
        "\n",
        "# GridSearchCV for tuning\n",
        "tuned_mnb_cv_model, tuned_mnb_tf_model = hyper_tuning(model=mnb, params=mnb_param_grid, model_name=\"MNB\")"
      ],
      "metadata": {
        "id": "OEE4b6nFuUDM",
        "outputId": "9b6e52ad-7f1d-49fc-981f-7a4948f0f285",
        "colab": {
          "base_uri": "https://localhost:8080/"
        }
      },
      "execution_count": 63,
      "outputs": [
        {
          "output_type": "stream",
          "name": "stdout",
          "text": [
            "Count Vectorisation Results\n",
            "\n",
            "Best Mnb Model (Count Vectorization):\n",
            " MultinomialNB(alpha=0.01)\n",
            "\n",
            "Test Accuracy (Count Vectorization): 0.629\n",
            "\n",
            "Test Recall (Count Vectorization): 0.629\n",
            "---------\n",
            "\n",
            "\n",
            "TFIDF Vectorisation Results\n",
            "\n",
            "Best Mnb Model (TFIDF Vectorization):\n",
            " MultinomialNB(alpha=0.01)\n",
            "\n",
            "Test Accuracy (TFIDF Vectorization): 0.794\n",
            "\n",
            "Test Recall (TFIDF Vectorization): 0.793\n"
          ]
        }
      ]
    },
    {
      "cell_type": "markdown",
      "source": [
        " The accuracy score is at 80% which is an improvement from 77%. The models improvement is due to tuning"
      ],
      "metadata": {
        "id": "t8Pb9Rz3uYJp"
      }
    },
    {
      "cell_type": "markdown",
      "source": [
        "#### ***Model 2 - Random Forest***"
      ],
      "metadata": {
        "id": "q9PI4W1gueWx"
      }
    },
    {
      "cell_type": "code",
      "source": [
        "# Instantiate a random forest model\n",
        "# Set `n_estimators = 1000` , `max_features = 5` and `max_depth = 5`\n",
        "rf = RandomForestClassifier(n_estimators=1000, max_features=5, max_depth=5)"
      ],
      "metadata": {
        "id": "AAX-wKzeul6b"
      },
      "execution_count": 64,
      "outputs": []
    },
    {
      "cell_type": "code",
      "source": [
        "modelling(model=rf, cv=True)\n",
        "modelling(model=rf, tf=True)"
      ],
      "metadata": {
        "id": "uDKimCabupSz",
        "outputId": "6f6f5495-1f39-48a2-f8e5-af1e80c8b54c",
        "colab": {
          "base_uri": "https://localhost:8080/"
        }
      },
      "execution_count": 65,
      "outputs": [
        {
          "output_type": "stream",
          "name": "stdout",
          "text": [
            "Count Vectorisation Results\n",
            "\n",
            "Main Metrics\n",
            "------------\n",
            "Accuracy Score 0.419\n",
            "Recall Score 0.426\n",
            "\n",
            "Classification Report\n",
            "              precision    recall  f1-score   support\n",
            "\n",
            "           0       0.91      0.13      0.22      1412\n",
            "           1       0.76      0.20      0.32      1403\n",
            "           2       0.36      0.95      0.52      1355\n",
            "\n",
            "    accuracy                           0.42      4170\n",
            "   macro avg       0.68      0.43      0.35      4170\n",
            "weighted avg       0.68      0.42      0.35      4170\n",
            "\n",
            "---------\n",
            "TFIDF Vectorisation Results\n",
            "\n",
            "Main Metrics\n",
            "------------\n",
            "Accuracy Score 0.616\n",
            "Recall Score 0.62\n",
            "\n",
            "Classification Report\n",
            "              precision    recall  f1-score   support\n",
            "\n",
            "           0       0.98      0.76      0.86      1412\n",
            "           1       0.80      0.13      0.22      1403\n",
            "           2       0.46      0.97      0.62      1355\n",
            "\n",
            "    accuracy                           0.62      4170\n",
            "   macro avg       0.75      0.62      0.57      4170\n",
            "weighted avg       0.75      0.62      0.57      4170\n",
            "\n"
          ]
        }
      ]
    },
    {
      "cell_type": "markdown",
      "source": [
        "#### Hyperparameter tuning the Random Forest Classifier"
      ],
      "metadata": {
        "id": "sKJJ0m5tussl"
      }
    },
    {
      "cell_type": "code",
      "source": [
        "# Define the Random Forest classifier\n",
        "rf = RandomForestClassifier(random_state= 42)\n",
        "\n",
        "# Define the parameter grid with the necessary hyperparameters\n",
        "rf_param_grid = {\n",
        "    'n_estimators': [100, 200],\n",
        "    'max_depth': [None, 10, 20, 30]\n",
        "}\n",
        "\n",
        "tuned_rf_cv_model, tuned_rf_tf_model = hyper_tuning(model=rf, params=rf_param_grid, model_name=\"Random Forest\")"
      ],
      "metadata": {
        "id": "WCZ5Y9jLuzYD",
        "outputId": "5c37af22-cc35-4659-f655-680e96e71d47",
        "colab": {
          "base_uri": "https://localhost:8080/"
        }
      },
      "execution_count": 66,
      "outputs": [
        {
          "output_type": "stream",
          "name": "stdout",
          "text": [
            "Count Vectorisation Results\n",
            "\n",
            "Best Random Forest Model (Count Vectorization):\n",
            " RandomForestClassifier(random_state=42)\n",
            "\n",
            "Test Accuracy (Count Vectorization): 0.695\n",
            "\n",
            "Test Recall (Count Vectorization): 0.694\n",
            "---------\n",
            "\n",
            "\n",
            "TFIDF Vectorisation Results\n",
            "\n",
            "Best Random Forest Model (TFIDF Vectorization):\n",
            " RandomForestClassifier(n_estimators=200, random_state=42)\n",
            "\n",
            "Test Accuracy (TFIDF Vectorization): 0.816\n",
            "\n",
            "Test Recall (TFIDF Vectorization): 0.815\n"
          ]
        }
      ]
    },
    {
      "cell_type": "markdown",
      "source": [
        "\n",
        "> The significant improvement in test accuracy from 0.50 to 0.70 in the model using Count Vectorization.\n",
        "\n",
        "> Note the improvement from 0.71 to 0.837 for the model using TF-IDF Vectorization\n",
        "\n",
        "> We can note an indication that TF-IDF provides a superior feature representation for the Random Forest model."
      ],
      "metadata": {
        "id": "BV0T_Nj4u5S6"
      }
    },
    {
      "cell_type": "markdown",
      "source": [
        "#### ***Model 3 - Logistic Regression***"
      ],
      "metadata": {
        "id": "hwcrKDCGvBSf"
      }
    },
    {
      "cell_type": "code",
      "source": [
        "# Instantiate the Logistic Regression Model\n",
        "lr = LogisticRegression(max_iter=200)"
      ],
      "metadata": {
        "id": "ftvk5f79vZDb"
      },
      "execution_count": 67,
      "outputs": []
    },
    {
      "cell_type": "code",
      "source": [
        "modelling(model=lr, cv=True)\n",
        "modelling(model=lr, tf=True)"
      ],
      "metadata": {
        "id": "MwAs-tiRvcRG",
        "outputId": "bb724ce5-82f4-4846-e202-e49fe8c317d5",
        "colab": {
          "base_uri": "https://localhost:8080/"
        }
      },
      "execution_count": 68,
      "outputs": [
        {
          "output_type": "stream",
          "name": "stdout",
          "text": [
            "Count Vectorisation Results\n",
            "\n",
            "Main Metrics\n",
            "------------\n",
            "Accuracy Score 0.699\n",
            "Recall Score 0.697\n",
            "\n",
            "Classification Report\n",
            "              precision    recall  f1-score   support\n",
            "\n",
            "           0       0.75      0.87      0.81      1412\n",
            "           1       0.69      0.66      0.67      1403\n",
            "           2       0.63      0.57      0.60      1355\n",
            "\n",
            "    accuracy                           0.70      4170\n",
            "   macro avg       0.69      0.70      0.69      4170\n",
            "weighted avg       0.69      0.70      0.69      4170\n",
            "\n",
            "---------\n",
            "TFIDF Vectorisation Results\n",
            "\n",
            "Main Metrics\n",
            "------------\n",
            "Accuracy Score 0.793\n",
            "Recall Score 0.792\n",
            "\n",
            "Classification Report\n",
            "              precision    recall  f1-score   support\n",
            "\n",
            "           0       0.90      0.94      0.92      1412\n",
            "           1       0.72      0.72      0.72      1403\n",
            "           2       0.75      0.72      0.73      1355\n",
            "\n",
            "    accuracy                           0.79      4170\n",
            "   macro avg       0.79      0.79      0.79      4170\n",
            "weighted avg       0.79      0.79      0.79      4170\n",
            "\n"
          ]
        }
      ]
    },
    {
      "cell_type": "code",
      "source": [
        "# A secondary model manually tuned\n",
        "lr_tune = LogisticRegression(max_iter=3000, C=100, solver='liblinear')\n",
        "modelling(lr_tune, cv=True)\n",
        "modelling(lr_tune, tf=True)"
      ],
      "metadata": {
        "id": "fJ2wOAMJvgIE",
        "outputId": "5a443010-df15-4010-deb2-246eb4895728",
        "colab": {
          "base_uri": "https://localhost:8080/"
        }
      },
      "execution_count": 69,
      "outputs": [
        {
          "output_type": "stream",
          "name": "stdout",
          "text": [
            "Count Vectorisation Results\n",
            "\n",
            "Main Metrics\n",
            "------------\n",
            "Accuracy Score 0.705\n",
            "Recall Score 0.703\n",
            "\n",
            "Classification Report\n",
            "              precision    recall  f1-score   support\n",
            "\n",
            "           0       0.78      0.89      0.83      1412\n",
            "           1       0.69      0.65      0.67      1403\n",
            "           2       0.62      0.57      0.60      1355\n",
            "\n",
            "    accuracy                           0.71      4170\n",
            "   macro avg       0.70      0.70      0.70      4170\n",
            "weighted avg       0.70      0.71      0.70      4170\n",
            "\n",
            "---------\n",
            "TFIDF Vectorisation Results\n",
            "\n",
            "Main Metrics\n",
            "------------\n",
            "Accuracy Score 0.813\n",
            "Recall Score 0.812\n",
            "\n",
            "Classification Report\n",
            "              precision    recall  f1-score   support\n",
            "\n",
            "           0       0.93      0.98      0.96      1412\n",
            "           1       0.75      0.70      0.73      1403\n",
            "           2       0.74      0.76      0.75      1355\n",
            "\n",
            "    accuracy                           0.81      4170\n",
            "   macro avg       0.81      0.81      0.81      4170\n",
            "weighted avg       0.81      0.81      0.81      4170\n",
            "\n"
          ]
        }
      ]
    },
    {
      "cell_type": "markdown",
      "source": [
        "#### ***Hyperparameter Tuning Logistic Regression Model***"
      ],
      "metadata": {
        "id": "ht5F-bOovjc5"
      }
    },
    {
      "cell_type": "code",
      "source": [
        "# Parameter Tuning\n",
        "c_space = np.linspace(30, 32, 3)\n",
        "max_iters = [100, 150, 200]\n",
        "solvers = [\"lbfgs\", \"liblinear\"]\n",
        "lr_param_grid = { 'C': c_space, 'max_iter':max_iters }\n",
        "tuned_lr_cv_model, tuned_lr_tf_model = hyper_tuning(model=lr, params=lr_param_grid, model_name=\"Logistic Regression\")"
      ],
      "metadata": {
        "id": "YdEB2qI5vtqW",
        "outputId": "54ac4039-a420-42a7-fdba-775afc2a9efe",
        "colab": {
          "base_uri": "https://localhost:8080/"
        }
      },
      "execution_count": 70,
      "outputs": [
        {
          "output_type": "stream",
          "name": "stdout",
          "text": [
            "Count Vectorisation Results\n",
            "\n",
            "Best Logistic Regression Model (Count Vectorization):\n",
            " LogisticRegression(C=32.0)\n",
            "\n",
            "Test Accuracy (Count Vectorization): 0.706\n",
            "\n",
            "Test Recall (Count Vectorization): 0.704\n",
            "---------\n",
            "\n",
            "\n",
            "TFIDF Vectorisation Results\n",
            "\n",
            "Best Logistic Regression Model (TFIDF Vectorization):\n",
            " LogisticRegression(C=31.0, max_iter=150)\n",
            "\n",
            "Test Accuracy (TFIDF Vectorization): 0.814\n",
            "\n",
            "Test Recall (TFIDF Vectorization): 0.813\n"
          ]
        }
      ]
    },
    {
      "cell_type": "markdown",
      "source": [
        "> The significant improvement in test accuracy from 0.70 to 0.83 in the Count Vectorization based model.\n",
        "\n",
        "> TF-IDF Vectorization-based model improved from 0.808 to 0.831.\n",
        "\n",
        "> Further indication that the TFIDF vectorisation is better"
      ],
      "metadata": {
        "id": "wI0IGWnfvyTQ"
      }
    },
    {
      "cell_type": "markdown",
      "source": [
        "#### ***Model 4 - Decision Trees***"
      ],
      "metadata": {
        "id": "8NkVVc93v4N1"
      }
    },
    {
      "cell_type": "code",
      "source": [
        "#  Instantiate the Decision tree model\n",
        "dt = DecisionTreeClassifier(max_features=5)"
      ],
      "metadata": {
        "id": "VOE1CQFEv_S8"
      },
      "execution_count": 73,
      "outputs": []
    },
    {
      "cell_type": "code",
      "source": [
        "# Decision tree with tfidf vectorization\n",
        "modelling(dt, cv=True)\n",
        "modelling(dt, tf=True)"
      ],
      "metadata": {
        "id": "XY1foJxWwDWt",
        "outputId": "b8e0abad-290f-4e1b-fbf1-0d6c19774aa3",
        "colab": {
          "base_uri": "https://localhost:8080/"
        }
      },
      "execution_count": 74,
      "outputs": [
        {
          "output_type": "stream",
          "name": "stdout",
          "text": [
            "Count Vectorisation Results\n",
            "\n",
            "Main Metrics\n",
            "------------\n",
            "Accuracy Score 0.674\n",
            "Recall Score 0.672\n",
            "\n",
            "Classification Report\n",
            "              precision    recall  f1-score   support\n",
            "\n",
            "           0       0.74      0.91      0.82      1412\n",
            "           1       0.66      0.56      0.60      1403\n",
            "           2       0.59      0.55      0.57      1355\n",
            "\n",
            "    accuracy                           0.67      4170\n",
            "   macro avg       0.66      0.67      0.66      4170\n",
            "weighted avg       0.67      0.67      0.67      4170\n",
            "\n",
            "---------\n",
            "TFIDF Vectorisation Results\n",
            "\n",
            "Main Metrics\n",
            "------------\n",
            "Accuracy Score 0.729\n",
            "Recall Score 0.728\n",
            "\n",
            "Classification Report\n",
            "              precision    recall  f1-score   support\n",
            "\n",
            "           0       0.88      0.90      0.89      1412\n",
            "           1       0.65      0.64      0.65      1403\n",
            "           2       0.64      0.64      0.64      1355\n",
            "\n",
            "    accuracy                           0.73      4170\n",
            "   macro avg       0.73      0.73      0.73      4170\n",
            "weighted avg       0.73      0.73      0.73      4170\n",
            "\n"
          ]
        }
      ]
    },
    {
      "cell_type": "code",
      "source": [
        "# A secondary model manually tuned\n",
        "dt2 = DecisionTreeClassifier(max_depth=1000 , criterion='entropy', min_samples_split=4, min_samples_leaf=5)\n",
        "modelling(dt2, cv=True)\n",
        "modelling(dt2, tf=True)"
      ],
      "metadata": {
        "id": "XdreQ565wGh1",
        "outputId": "e531fa6a-fdd3-48ae-8c44-091b28cceb7d",
        "colab": {
          "base_uri": "https://localhost:8080/"
        }
      },
      "execution_count": 75,
      "outputs": [
        {
          "output_type": "stream",
          "name": "stdout",
          "text": [
            "Count Vectorisation Results\n",
            "\n",
            "Main Metrics\n",
            "------------\n",
            "Accuracy Score 0.611\n",
            "Recall Score 0.608\n",
            "\n",
            "Classification Report\n",
            "              precision    recall  f1-score   support\n",
            "\n",
            "           0       0.67      0.86      0.75      1412\n",
            "           1       0.60      0.49      0.54      1403\n",
            "           2       0.53      0.47      0.50      1355\n",
            "\n",
            "    accuracy                           0.61      4170\n",
            "   macro avg       0.60      0.61      0.60      4170\n",
            "weighted avg       0.60      0.61      0.60      4170\n",
            "\n",
            "---------\n",
            "TFIDF Vectorisation Results\n",
            "\n",
            "Main Metrics\n",
            "------------\n",
            "Accuracy Score 0.714\n",
            "Recall Score 0.713\n",
            "\n",
            "Classification Report\n",
            "              precision    recall  f1-score   support\n",
            "\n",
            "           0       0.88      0.86      0.87      1412\n",
            "           1       0.64      0.65      0.65      1403\n",
            "           2       0.62      0.62      0.62      1355\n",
            "\n",
            "    accuracy                           0.71      4170\n",
            "   macro avg       0.71      0.71      0.71      4170\n",
            "weighted avg       0.72      0.71      0.71      4170\n",
            "\n"
          ]
        }
      ]
    },
    {
      "cell_type": "markdown",
      "source": [
        "#### ***Hyper Parameter Tuning the Decision Tree Model***"
      ],
      "metadata": {
        "id": "T-paYPy0wJlg"
      }
    },
    {
      "cell_type": "code",
      "source": [
        "dt_param_grid = {\"criterion\": ['gini', 'entropy'],\n",
        "                 \"max_features\" : [5],\n",
        "                 \"min_samples_split\":[4, 5, 6]}\n",
        "\n",
        "tuned_dt_cv_model, tuned_dt_tf_model = hyper_tuning(model=dt, params=dt_param_grid, model_name=\"Decision Tree\")"
      ],
      "metadata": {
        "id": "CLKUjgh2wM17",
        "outputId": "f16e959c-ca12-44ee-d4fc-6d757e2ad63e",
        "colab": {
          "base_uri": "https://localhost:8080/"
        }
      },
      "execution_count": 76,
      "outputs": [
        {
          "output_type": "stream",
          "name": "stdout",
          "text": [
            "Count Vectorisation Results\n",
            "\n",
            "Best Decision Tree Model (Count Vectorization):\n",
            " DecisionTreeClassifier(criterion='entropy', max_features=5, min_samples_split=5)\n",
            "\n",
            "Test Accuracy (Count Vectorization): 0.674\n",
            "\n",
            "Test Recall (Count Vectorization): 0.671\n",
            "---------\n",
            "\n",
            "\n",
            "TFIDF Vectorisation Results\n",
            "\n",
            "Best Decision Tree Model (TFIDF Vectorization):\n",
            " DecisionTreeClassifier(criterion='entropy', max_features=5, min_samples_split=4)\n",
            "\n",
            "Test Accuracy (TFIDF Vectorization): 0.728\n",
            "\n",
            "Test Recall (TFIDF Vectorization): 0.726\n"
          ]
        }
      ]
    },
    {
      "cell_type": "markdown",
      "source": [
        "> The significant improvement in test accuracy from 0.68 to 0.682 in the Count Vectorization based model.\n",
        "\n",
        "> TF-IDF Vectorization-based model reduced accuracy performance from 0.76 to 0.0.754.\n",
        "\n",
        "> Further indication that the TFIDF vectorisation is better"
      ],
      "metadata": {
        "id": "tMU7Wd2lwSNX"
      }
    },
    {
      "cell_type": "markdown",
      "source": [
        "## **. Evaluation**"
      ],
      "metadata": {
        "id": "InxBDwn5wX3e"
      }
    },
    {
      "cell_type": "code",
      "source": [
        "# TFIDF Models used\n",
        "models = ['MultinomialNB', 'Tuned MultinomialNB',\n",
        "          'RandomForest', 'Tuned RandomForest',\n",
        "          'LogisticRegression', 'Tuned LogisticRegression',\n",
        "          'Decision Tree', 'Tuned Decision Tree']\n",
        "\n",
        "# Scores\n",
        "model_accuracy_scores = [0.765, 0.8, 0.71, 0.837, 0.808, 0.837, 0.76, 0.754]\n",
        "model_recall_scores =   [0.764, 0.8, 0.71, 0.836, 0.807, 0.836, 0.76, 0.753]\n",
        "\n",
        "# Creating a dictionary with model names as keys and metric scores as values\n",
        "data = {\n",
        "    \"models\": models,\n",
        "    \"accuracy\": model_accuracy_scores,\n",
        "    \"recall\": model_recall_scores\n",
        "}\n",
        "\n",
        "# Creating the DataFrame\n",
        "evaluation_df = pd.DataFrame(data=data)\n",
        "\n",
        "# Sort Order\n",
        "evaluation_df.sort_values(by='accuracy', ascending=True, inplace=True)\n",
        "\n",
        "# Displaying the DataFrame\n",
        "print(\"Resuts with TF-IDF\")\n",
        "print(evaluation_df)\n"
      ],
      "metadata": {
        "id": "VXo7yADrwfg8",
        "outputId": "64f33293-83a2-43e9-9516-afc1a257eb96",
        "colab": {
          "base_uri": "https://localhost:8080/"
        }
      },
      "execution_count": 77,
      "outputs": [
        {
          "output_type": "stream",
          "name": "stdout",
          "text": [
            "Resuts with TF-IDF\n",
            "                     models  accuracy  recall\n",
            "2              RandomForest     0.710   0.710\n",
            "7       Tuned Decision Tree     0.754   0.753\n",
            "6             Decision Tree     0.760   0.760\n",
            "0             MultinomialNB     0.765   0.764\n",
            "1       Tuned MultinomialNB     0.800   0.800\n",
            "4        LogisticRegression     0.808   0.807\n",
            "3        Tuned RandomForest     0.837   0.836\n",
            "5  Tuned LogisticRegression     0.837   0.836\n"
          ]
        }
      ]
    },
    {
      "cell_type": "markdown",
      "source": [
        " We found the best model to be `Random Forest Model` and `Logistic Regression` both with the highest accuracy scores of 83.7%."
      ],
      "metadata": {
        "id": "64jigOEFwjI4"
      }
    },
    {
      "cell_type": "code",
      "source": [
        "modelling(model=tuned_rf_tf_model, tf=True)"
      ],
      "metadata": {
        "id": "-wXydy4mwrZ4",
        "outputId": "2355b5bc-cd34-4715-8f27-388f62ff2399",
        "colab": {
          "base_uri": "https://localhost:8080/"
        }
      },
      "execution_count": 78,
      "outputs": [
        {
          "output_type": "stream",
          "name": "stdout",
          "text": [
            "---------\n",
            "TFIDF Vectorisation Results\n",
            "\n",
            "Main Metrics\n",
            "------------\n",
            "Accuracy Score 0.816\n",
            "Recall Score 0.815\n",
            "\n",
            "Classification Report\n",
            "              precision    recall  f1-score   support\n",
            "\n",
            "           0       0.98      0.94      0.96      1412\n",
            "           1       0.70      0.81      0.75      1403\n",
            "           2       0.78      0.69      0.73      1355\n",
            "\n",
            "    accuracy                           0.82      4170\n",
            "   macro avg       0.82      0.81      0.82      4170\n",
            "weighted avg       0.82      0.82      0.82      4170\n",
            "\n"
          ]
        }
      ]
    },
    {
      "cell_type": "markdown",
      "source": [
        "## **. Deployment**"
      ],
      "metadata": {
        "id": "cUpenuBTwtX7"
      }
    },
    {
      "cell_type": "code",
      "source": [
        "# Convert the trained model into a format suitable for deployment\n",
        "pickle_models = [tuned_mnb_tf_model, tuned_rf_tf_model, tuned_dt_tf_model, tuned_lr_tf_model]\n",
        "pickle_names = [\"tuned_mnb_tf_model.pkl\", \"tuned_rf_tf_model.pkl\", \"tuned_dt_tf_model.pkl\",\n",
        "                \"tuned_lr_tf_model.pkl\"]\n",
        "\n",
        "for name, model in zip(pickle_names, pickle_models):\n",
        "  pickle.dump(model, open(name, 'wb'))\n",
        "\n",
        "# The Product categories\n",
        "products = list(df.emotion.unique())\n",
        "pickle.dump(products, open('products.pkl', 'wb'))\n",
        "\n",
        "# The Model Evaluation Results\n",
        "pickle.dump(evaluation_df, open('evaluation_df.pkl', 'wb'))\n",
        "\n",
        "# Create the directory if it doesn't exist\n",
        "!mkdir models\n",
        "\n",
        "# Save the labels\n",
        "pickle.dump(label_encoder.classes_, open(\"./models/labels.pkl\", 'wb'))"
      ],
      "metadata": {
        "id": "mwmZEY_lw1Qo"
      },
      "execution_count": 81,
      "outputs": []
    },
    {
      "cell_type": "markdown",
      "source": [
        "### ***The Prediction Process***"
      ],
      "metadata": {
        "id": "YyQwJI_3w4K8"
      }
    },
    {
      "cell_type": "code",
      "source": [
        "# Initialize the vectorizer and fit on the training data\n",
        "vectorizer = TfidfVectorizer()\n",
        "X_train_tfidf = vectorizer.fit_transform(df[\"cleaned_tweets\"])\n",
        "\n",
        "# SMOTE - TFIDF\n",
        "X_tf_smote, y_tf_smote = smote.fit_resample(X_train_tfidf, y)\n",
        "\n",
        "# Train Test and Split - TFIDF\n",
        "X_train_tf, X_test_tf, y_train_tf, y_test_tf = train_test_split(X_tf_smote, y_tf_smote, test_size=0.3, random_state=42)\n",
        "\n",
        "# Save Vectorizer\n",
        "pickle.dump(vectorizer, open('./models/vectorizer.pkl', 'wb'))\n",
        "\n",
        "# Load the model\n",
        "with open('./models/tuned_lr_tf_model.pkl', 'rb') as file:\n",
        "    model = pickle.load(file)\n",
        "\n",
        "model.fit(X_train_tf, y_train_tf)  # Sample target values\n",
        "\n",
        "# Save the fit model\n",
        "pickle.dump(model, open('./models/tuned_lr_tf_model.pkl', 'wb'))\n",
        "\n",
        "# Prediction\n",
        "import nltk\n",
        "import string\n",
        "from nltk.corpus import stopwords\n",
        "from nltk.stem import WordNetLemmatizer\n",
        "\n",
        "# Initialize the lemmatizer\n",
        "lemmatizer = WordNetLemmatizer()\n",
        "\n",
        "# Define stop words\n",
        "stop_words = set(stopwords.words('english'))\n",
        "\n",
        "def preprocess_text(text):\n",
        "    # Convert to lower case\n",
        "    text = text.lower()\n",
        "\n",
        "    # Tokenize the text\n",
        "    tokens = nltk.word_tokenize(text)\n",
        "\n",
        "    # Remove punctuation and stop words, and lemmatize the tokens\n",
        "    cleaned_tokens = [\n",
        "        lemmatizer.lemmatize(token)\n",
        "        for token in tokens\n",
        "        if token not in string.punctuation and token not in stop_words\n",
        "    ]\n",
        "\n",
        "    return ' '.join(cleaned_tokens)\n",
        "\n",
        "# Example text to be processed and predicted\n",
        "text = \"I had a great time hanging out at the conference.\"\n",
        "\n",
        "# Preprocess the text\n",
        "cleaned_text = preprocess_text(text)\n",
        "\n",
        "# Transform the cleaned text to TF-IDF representation using the loaded vectorizer\n",
        "text_tfidf = vectorizer.transform([cleaned_text])\n",
        "\n",
        "# Make prediction using the loaded model\n",
        "prediction = model.predict(text_tfidf)\n",
        "\n",
        "# Return sentiment label\n",
        "print(label_encoder.classes_[prediction[0]])"
      ],
      "metadata": {
        "id": "nTdnzMukw-8r",
        "outputId": "84932a0a-7ea3-49ac-bc52-f38e80390f6e",
        "colab": {
          "base_uri": "https://localhost:8080/"
        }
      },
      "execution_count": 85,
      "outputs": [
        {
          "output_type": "stream",
          "name": "stdout",
          "text": [
            "positive\n"
          ]
        }
      ]
    },
    {
      "cell_type": "markdown",
      "source": [
        "#### 8. Conclusion\n",
        "\n",
        "Summary of Findings:\n",
        "\n",
        "The project successfully evaluated various machine learning models for classifying tweets into emotion categories. TF-IDF Vectorization demonstrated superior performance compared to CountVectorizer, and the Tuned Logistic Regression and Tuned Random Forest models achieved high accuracy and recall. Hyperparameter tuning significantly enhanced model performance, and the SMOTE technique effectively addressed class imbalance.\n",
        "\n",
        "Project Impact:\n",
        "\n",
        "The project’s results offer valuable insights into effective sentiment analysis for social media data. The models developed provide robust tools for classifying tweets and understanding public sentiment, contributing to advancements in sentiment analysis and machine learning applications.\n",
        "\n",
        "Final Thoughts:\n",
        "\n",
        "The project highlights the importance of effective data preprocessing, model evaluation, and hyperparameter tuning in achieving high-performance sentiment analysis. The findings emphasize the potential of machine learning models in practical applications and pave the way for future research and enhancements in the field.\n",
        "\n",
        "---"
      ],
      "metadata": {
        "id": "d_KJXJt8xAkZ"
      }
    },
    {
      "cell_type": "markdown",
      "source": [
        "#### Recommedations\n",
        "- Seek to Increase Positive Sentiment: Since a large number of tweets are neutrals, specific campaigns can be done toward the goal of converting these neutrals to positive sentiments by strengthening customer experiences and proactive engagement.\n",
        "\n",
        "- Address Negative Feedback: Though in the minority, negative tweets do need attention. The sentiment monitoring system can be instituted to quickly address users who are discontented with the service for the resolution of their issues to avoid further negative sentiment.\n",
        "\n",
        "- Harness Neutral Sentiment: Neutral tweets are a potential for conversion. The engaging of neutral customers through information or other incentives may be beneficial in converting their sentiments to positive, hence improving brand perception."
      ],
      "metadata": {
        "id": "3SeD5wx3Pxp4"
      }
    },
    {
      "cell_type": "code",
      "source": [],
      "metadata": {
        "id": "5AbhSXBOQxG4"
      },
      "execution_count": null,
      "outputs": []
    }
  ],
  "metadata": {
    "colab": {
      "provenance": []
    },
    "kernelspec": {
      "display_name": "Python 3",
      "name": "python3"
    },
    "language_info": {
      "name": "python"
    }
  },
  "nbformat": 4,
  "nbformat_minor": 0
}