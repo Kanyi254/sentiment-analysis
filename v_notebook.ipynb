{
  "nbformat": 4,
  "nbformat_minor": 0,
  "metadata": {
    "colab": {
      "provenance": [],
      "include_colab_link": true
    },
    "kernelspec": {
      "name": "python3",
      "display_name": "Python 3"
    },
    "language_info": {
      "name": "python"
    }
  },
  "cells": [
    {
      "cell_type": "markdown",
      "metadata": {
        "id": "view-in-github",
        "colab_type": "text"
      },
      "source": [
        "<a href=\"https://colab.research.google.com/github/Kanyi254/sentiment-analysis/blob/Veona/v_notebook.ipynb\" target=\"_parent\"><img src=\"https://colab.research.google.com/assets/colab-badge.svg\" alt=\"Open In Colab\"/></a>"
      ]
    },
    {
      "cell_type": "markdown",
      "source": [],
      "metadata": {
        "id": "Txg4ZA87wrsf"
      }
    },
    {
      "cell_type": "markdown",
      "metadata": {
        "id": "cdP9a4Qj96IL"
      },
      "source": [
        "## 1. **Business Understanding**\n",
        "\n",
        "### Overview\n",
        "\n",
        "SentimentFlow aims to address a real-world problem related to understanding public sentiment towards Apple and Google products on Twitter. The stakeholders include companies, marketing teams, and decision-makers who want to gauge public opinion and make informed strategic decisions based on social media sentiment.\n",
        "\n",
        "### Problem Statement\n",
        "\n",
        "The problem is to accurately classify the sentiment of tweets related to Apple and Google products. We want to determine whether a tweet expresses a positive, negative, or neutral sentiment. This classification can help companies understand customer satisfaction, identify potential issues, and tailor their responses accordingly.\n",
        "\n",
        "### Objectives\n",
        "\n",
        "Main Objective\n",
        "\n",
        "> To develop a NLP (Natural Language Processing) multiclass classification model for sentiment analysis, aim to achieve a recall score of 80% and an accuracy of 80%. The model should categorize sentiments into three classes: Positive, Negative, and Neutral.\n",
        "\n",
        "Specific Objectives\n",
        "\n",
        "* To idenitfy the most common words used in the dataset using Word cloud.\n",
        "\n",
        "* To confirm the most common words that are positively and negatively tagged.\n",
        "\n",
        "* To recognize the products that have been opined by the users.\n",
        "\n",
        "* To spot the distribution of the sentiments."
      ]
    },
    {
      "cell_type": "markdown",
      "source": [
        "## 2. **Data Understanding**\n",
        "\n",
        "### Data Sources\n",
        "The dataset originates from CrowdFlower via data.world. Contributors evaluated tweets related to various brands and products. Specifically:\n",
        "- Each tweet was labeled as expressing positive, negative, or no emotion toward a brand or product.\n",
        "- If emotion was expressed, contributors specified which brand or product was the target.\n",
        "\n",
        "### Suitability of Data\n",
        "Here's why this dataset is suitable for our project:\n",
        "1. **Relevance:** The data directly aligns with our business problem of understanding Twitter sentiment for Apple and Google products.\n",
        "2. **Real-World Context:** The tweets represent actual user opinions, making the problem relevant in practice.\n",
        "3. **Multiclass Labels:** We can build both binary (positive/negative) and multiclass (positive/negative/neutral) classifiers using this data.\n",
        "\n",
        "### Dataset Size\n",
        "The dataset contains over 9,000 labeled tweets. We'll explore its features to gain insights.\n",
        "\n",
        "### Descriptive Statistics\n",
        "- **tweet_text:** The content of each tweet.\n",
        "- **is_there_an_emotion_directed_at_a_brand_or_product:** No emotion toward brand or product, Positive emotion, Negative emotion, I can't tell\n",
        "- **emotion_in_tweet_is_directed_at:** The brand or product mentioned in the tweet.\n",
        "\n",
        "### Feature Inclusion\n",
        "Tweet text is the primary feature. The emotion label and target brand/product are essential for classification.\n",
        "\n",
        "### Limitations\n",
        "- **Label Noise:** Human raters' subjectivity may introduce noise.\n",
        "- **Imbalanced Classes:** We'll address class imbalance during modeling.\n",
        "- **Contextual Challenges:** Tweets are often short and context-dependent.\n",
        "- **Incomplete & Missing Data:** Could affect the overall performance of the models."
      ],
      "metadata": {
        "id": "dCRCaKYDx9xk"
      }
    },
    {
      "cell_type": "code",
      "source": [
        "from google.colab import drive\n",
        "drive.mount('/content/drive')"
      ],
      "metadata": {
        "colab": {
          "base_uri": "https://localhost:8080/"
        },
        "id": "vwq-ZFNxyS-N",
        "outputId": "4ea8e7cf-1ff4-464d-e4a7-3114f3097cdc"
      },
      "execution_count": 23,
      "outputs": [
        {
          "output_type": "stream",
          "name": "stdout",
          "text": [
            "Drive already mounted at /content/drive; to attempt to forcibly remount, call drive.mount(\"/content/drive\", force_remount=True).\n"
          ]
        }
      ]
    },
    {
      "cell_type": "code",
      "execution_count": 24,
      "metadata": {
        "id": "xQQIS-nTwp63"
      },
      "outputs": [],
      "source": [
        "import pandas as pd\n",
        "import numpy as np\n",
        "import seaborn as sns\n",
        "import matplotlib.pyplot as plt\n",
        "import plotly.express"
      ]
    },
    {
      "cell_type": "markdown",
      "source": [
        "Load and Inspect data"
      ],
      "metadata": {
        "id": "xvZj8tcCdxKP"
      }
    },
    {
      "cell_type": "code",
      "source": [
        "# from typing_extensions import dataclass_transform\n",
        "class DataUnderstanding:\n",
        "  \"\"\"Class for understanding the characteristics of the dataset\"\"\"\n",
        "  def __init__(self, data= None):\n",
        "    \"\"\"Initialize the class with a DataFrame\"\"\"\n",
        "    self.df= data\n",
        "\n",
        "  def load_data(self, path):\n",
        "    \"\"\"Load data from a CSV file\"\"\"\n",
        "    if self.df is None:\n",
        "      self.df = pd.read_csv(path, encoding= 'latin-1')\n",
        "    return self.df\n",
        "\n",
        "  def preview_df(self):\n",
        "    \"\"\"Preview the DataFrame\"\"\"\n",
        "    print(\"\\n\\nHEAD\")\n",
        "    print(\"-\"*22)\n",
        "    print(self.df.head())\n",
        "\n",
        "  def display_info(self):\n",
        "    \"\"\"Display information about the DataFrame\"\"\"\n",
        "    print(\"\\n\\nINFO\")\n",
        "    print(\"-\"*22)\n",
        "    print(self.df.info())\n",
        "\n",
        "  def display_shape(self):\n",
        "    \"\"\"Display the shape of the DataFrame\"\"\"\n",
        "    print(\"\\n\\nSHAPE\")\n",
        "    print(\"-\"*22)\n",
        "    print(f\"Records: {self.df.shape[0]}, Features: {self.df.shape[1]}\")\n",
        "\n",
        "  def display_columns(self):\n",
        "    \"\"\"Display the columns in the dataset.\"\"\"\n",
        "    print(\"\\nCOLUMNS\")\n",
        "    print(\"-\" *22)\n",
        "    for col in self.df.columns:\n",
        "      print(f\"- {col}\")\n",
        "\n",
        "\n",
        "  def display_missing_values(self):\n",
        "    \"\"\"Display missing values in each column\"\"\"\n",
        "    print(\"\\n\\nMISSING VALUES\")\n",
        "    print(\"-\"*22)\n",
        "    for col in self.df.columns:\n",
        "      print(f\"{col}: {self.df[col].isnull().sum()}\")\n",
        "\n",
        "  def display_duplicates(self):\n",
        "    \"\"\"Display duplicate records in the DataFrame\"\"\"\n",
        "    print(\"\\n\\nDUPLICATES\")\n",
        "    print(\"-\"*22)\n",
        "    print(f\"Duplicate records: {self.df.duplicated().sum()}\")\n",
        "\n",
        "  def understand_data(self):\n",
        "    \"\"\"Display dataset overview\"\"\"\n",
        "    self.preview_df()\n",
        "    self.display_info()\n",
        "    self.display_shape()\n",
        "    self.display_columns()\n",
        "    self.display_missing_values()\n",
        "    self.display_duplicates()\n",
        "\n",
        "\n"
      ],
      "metadata": {
        "id": "H-TQyaf9ducI"
      },
      "execution_count": 25,
      "outputs": []
    },
    {
      "cell_type": "code",
      "source": [
        "# Load Data\n",
        "data_und = DataUnderstanding()\n",
        "\n",
        "df = data_und.load_data('/content/drive/MyDrive/phase_4_project/sentiment-analysis/judge-1377884607_tweet_product_company.csv')\n",
        "\n",
        "data_und.understand_data()"
      ],
      "metadata": {
        "colab": {
          "base_uri": "https://localhost:8080/"
        },
        "id": "g5IRPDihd0EB",
        "outputId": "732b5fe0-60ae-4974-dd35-64e62a056b70"
      },
      "execution_count": 26,
      "outputs": [
        {
          "output_type": "stream",
          "name": "stdout",
          "text": [
            "\n",
            "\n",
            "HEAD\n",
            "----------------------\n",
            "                                          tweet_text  \\\n",
            "0  .@wesley83 I have a 3G iPhone. After 3 hrs twe...   \n",
            "1  @jessedee Know about @fludapp ? Awesome iPad/i...   \n",
            "2  @swonderlin Can not wait for #iPad 2 also. The...   \n",
            "3  @sxsw I hope this year's festival isn't as cra...   \n",
            "4  @sxtxstate great stuff on Fri #SXSW: Marissa M...   \n",
            "\n",
            "  emotion_in_tweet_is_directed_at  \\\n",
            "0                          iPhone   \n",
            "1              iPad or iPhone App   \n",
            "2                            iPad   \n",
            "3              iPad or iPhone App   \n",
            "4                          Google   \n",
            "\n",
            "  is_there_an_emotion_directed_at_a_brand_or_product  \n",
            "0                                   Negative emotion  \n",
            "1                                   Positive emotion  \n",
            "2                                   Positive emotion  \n",
            "3                                   Negative emotion  \n",
            "4                                   Positive emotion  \n",
            "\n",
            "\n",
            "INFO\n",
            "----------------------\n",
            "<class 'pandas.core.frame.DataFrame'>\n",
            "RangeIndex: 9093 entries, 0 to 9092\n",
            "Data columns (total 3 columns):\n",
            " #   Column                                              Non-Null Count  Dtype \n",
            "---  ------                                              --------------  ----- \n",
            " 0   tweet_text                                          9092 non-null   object\n",
            " 1   emotion_in_tweet_is_directed_at                     3291 non-null   object\n",
            " 2   is_there_an_emotion_directed_at_a_brand_or_product  9093 non-null   object\n",
            "dtypes: object(3)\n",
            "memory usage: 213.2+ KB\n",
            "None\n",
            "\n",
            "\n",
            "SHAPE\n",
            "----------------------\n",
            "Records: 9093, Features: 3\n",
            "\n",
            "COLUMNS\n",
            "----------------------\n",
            "- tweet_text\n",
            "- emotion_in_tweet_is_directed_at\n",
            "- is_there_an_emotion_directed_at_a_brand_or_product\n",
            "\n",
            "\n",
            "MISSING VALUES\n",
            "----------------------\n",
            "tweet_text: 1\n",
            "emotion_in_tweet_is_directed_at: 5802\n",
            "is_there_an_emotion_directed_at_a_brand_or_product: 0\n",
            "\n",
            "\n",
            "DUPLICATES\n",
            "----------------------\n",
            "Duplicate records: 22\n"
          ]
        }
      ]
    },
    {
      "cell_type": "markdown",
      "source": [
        "In essence, the dataset is designed to analyze sentiment, whether positive or negative, from tweets involving different products or brands.\n",
        "\n",
        "The majority of these tweets - 5802 - don't specify any product or brand for which some decisions may be required in pre-processing.\n",
        "\n",
        "The dataset is fairly clean; there are a few missing values in the 'tweet_text' and 'emotion_in_tweet_is_directed_at' columns and few duplicates."
      ],
      "metadata": {
        "id": "rW-G1sxvd5Zx"
      }
    },
    {
      "cell_type": "markdown",
      "source": [
        "Data Cleaning"
      ],
      "metadata": {
        "id": "wS5ZhTZdd8af"
      }
    },
    {
      "cell_type": "code",
      "source": [
        "#renaming columns for easier reference\n",
        "df.rename (columns= {\n",
        "    'tweet_text': 'tweets',\n",
        "    'emotion_in_tweet_is_directed_at': 'product',\n",
        "    'is_there_an_emotion_directed_at_a_brand_or_product': 'emotion'\n",
        "}, inplace=True)"
      ],
      "metadata": {
        "id": "rOkf2lzPd3Rv"
      },
      "execution_count": 27,
      "outputs": []
    },
    {
      "cell_type": "markdown",
      "source": [
        "Handling duplicates"
      ],
      "metadata": {
        "id": "kNLfpeH0eEK9"
      }
    },
    {
      "cell_type": "code",
      "source": [
        "df.drop_duplicates(subset= 'tweets', inplace= True)"
      ],
      "metadata": {
        "id": "iO9oUC4xeGJd"
      },
      "execution_count": 28,
      "outputs": []
    },
    {
      "cell_type": "markdown",
      "source": [
        "Handling missing values"
      ],
      "metadata": {
        "id": "7qVyWClveI_F"
      }
    },
    {
      "cell_type": "code",
      "source": [
        "# Drop the 1 in tweets column\n",
        "df = df.dropna(subset=['tweets'])"
      ],
      "metadata": {
        "id": "dDd6Ee8peIll"
      },
      "execution_count": 29,
      "outputs": []
    },
    {
      "cell_type": "code",
      "source": [
        "# imputing missing values in product column with data from tweets\n",
        "\n",
        "product_list = df['product'].unique()\n",
        "product_list = [product for product in product_list if str(product) != 'nan']\n",
        "\n",
        "def extract_product(tweet):\n",
        "    for product in product_list:\n",
        "        if product.lower() in tweet.lower():\n",
        "            return product\n",
        "    return None\n",
        "\n",
        "df.loc[:, 'product']  = df.apply(lambda x: extract_product(x['tweets']) if pd.isna(x['product']) else x['product'], axis=1,)\n",
        "\n",
        "df.head(5)"
      ],
      "metadata": {
        "colab": {
          "base_uri": "https://localhost:8080/",
          "height": 293
        },
        "id": "P1W1T6AYeMhD",
        "outputId": "6eb2eda7-1be4-4da2-9081-2e2e7f84f029"
      },
      "execution_count": 30,
      "outputs": [
        {
          "output_type": "execute_result",
          "data": {
            "text/plain": [
              "                                              tweets             product  \\\n",
              "0  .@wesley83 I have a 3G iPhone. After 3 hrs twe...              iPhone   \n",
              "1  @jessedee Know about @fludapp ? Awesome iPad/i...  iPad or iPhone App   \n",
              "2  @swonderlin Can not wait for #iPad 2 also. The...                iPad   \n",
              "3  @sxsw I hope this year's festival isn't as cra...  iPad or iPhone App   \n",
              "4  @sxtxstate great stuff on Fri #SXSW: Marissa M...              Google   \n",
              "\n",
              "            emotion  \n",
              "0  Negative emotion  \n",
              "1  Positive emotion  \n",
              "2  Positive emotion  \n",
              "3  Negative emotion  \n",
              "4  Positive emotion  "
            ],
            "text/html": [
              "\n",
              "  <div id=\"df-b59f23ad-39b8-4b0f-8395-74a8ede9d89c\" class=\"colab-df-container\">\n",
              "    <div>\n",
              "<style scoped>\n",
              "    .dataframe tbody tr th:only-of-type {\n",
              "        vertical-align: middle;\n",
              "    }\n",
              "\n",
              "    .dataframe tbody tr th {\n",
              "        vertical-align: top;\n",
              "    }\n",
              "\n",
              "    .dataframe thead th {\n",
              "        text-align: right;\n",
              "    }\n",
              "</style>\n",
              "<table border=\"1\" class=\"dataframe\">\n",
              "  <thead>\n",
              "    <tr style=\"text-align: right;\">\n",
              "      <th></th>\n",
              "      <th>tweets</th>\n",
              "      <th>product</th>\n",
              "      <th>emotion</th>\n",
              "    </tr>\n",
              "  </thead>\n",
              "  <tbody>\n",
              "    <tr>\n",
              "      <th>0</th>\n",
              "      <td>.@wesley83 I have a 3G iPhone. After 3 hrs twe...</td>\n",
              "      <td>iPhone</td>\n",
              "      <td>Negative emotion</td>\n",
              "    </tr>\n",
              "    <tr>\n",
              "      <th>1</th>\n",
              "      <td>@jessedee Know about @fludapp ? Awesome iPad/i...</td>\n",
              "      <td>iPad or iPhone App</td>\n",
              "      <td>Positive emotion</td>\n",
              "    </tr>\n",
              "    <tr>\n",
              "      <th>2</th>\n",
              "      <td>@swonderlin Can not wait for #iPad 2 also. The...</td>\n",
              "      <td>iPad</td>\n",
              "      <td>Positive emotion</td>\n",
              "    </tr>\n",
              "    <tr>\n",
              "      <th>3</th>\n",
              "      <td>@sxsw I hope this year's festival isn't as cra...</td>\n",
              "      <td>iPad or iPhone App</td>\n",
              "      <td>Negative emotion</td>\n",
              "    </tr>\n",
              "    <tr>\n",
              "      <th>4</th>\n",
              "      <td>@sxtxstate great stuff on Fri #SXSW: Marissa M...</td>\n",
              "      <td>Google</td>\n",
              "      <td>Positive emotion</td>\n",
              "    </tr>\n",
              "  </tbody>\n",
              "</table>\n",
              "</div>\n",
              "    <div class=\"colab-df-buttons\">\n",
              "      \n",
              "  <div class=\"colab-df-container\">\n",
              "    <button class=\"colab-df-convert\" onclick=\"convertToInteractive('df-b59f23ad-39b8-4b0f-8395-74a8ede9d89c')\"\n",
              "            title=\"Convert this dataframe to an interactive table.\"\n",
              "            style=\"display:none;\">\n",
              "      \n",
              "  <svg xmlns=\"http://www.w3.org/2000/svg\" height=\"24px\" viewBox=\"0 -960 960 960\">\n",
              "    <path d=\"M120-120v-720h720v720H120Zm60-500h600v-160H180v160Zm220 220h160v-160H400v160Zm0 220h160v-160H400v160ZM180-400h160v-160H180v160Zm440 0h160v-160H620v160ZM180-180h160v-160H180v160Zm440 0h160v-160H620v160Z\"/>\n",
              "  </svg>\n",
              "    </button>\n",
              "    \n",
              "  <style>\n",
              "    .colab-df-container {\n",
              "      display:flex;\n",
              "      gap: 12px;\n",
              "    }\n",
              "\n",
              "    .colab-df-convert {\n",
              "      background-color: #E8F0FE;\n",
              "      border: none;\n",
              "      border-radius: 50%;\n",
              "      cursor: pointer;\n",
              "      display: none;\n",
              "      fill: #1967D2;\n",
              "      height: 32px;\n",
              "      padding: 0 0 0 0;\n",
              "      width: 32px;\n",
              "    }\n",
              "\n",
              "    .colab-df-convert:hover {\n",
              "      background-color: #E2EBFA;\n",
              "      box-shadow: 0px 1px 2px rgba(60, 64, 67, 0.3), 0px 1px 3px 1px rgba(60, 64, 67, 0.15);\n",
              "      fill: #174EA6;\n",
              "    }\n",
              "\n",
              "    .colab-df-buttons div {\n",
              "      margin-bottom: 4px;\n",
              "    }\n",
              "\n",
              "    [theme=dark] .colab-df-convert {\n",
              "      background-color: #3B4455;\n",
              "      fill: #D2E3FC;\n",
              "    }\n",
              "\n",
              "    [theme=dark] .colab-df-convert:hover {\n",
              "      background-color: #434B5C;\n",
              "      box-shadow: 0px 1px 3px 1px rgba(0, 0, 0, 0.15);\n",
              "      filter: drop-shadow(0px 1px 2px rgba(0, 0, 0, 0.3));\n",
              "      fill: #FFFFFF;\n",
              "    }\n",
              "  </style>\n",
              "\n",
              "    <script>\n",
              "      const buttonEl =\n",
              "        document.querySelector('#df-b59f23ad-39b8-4b0f-8395-74a8ede9d89c button.colab-df-convert');\n",
              "      buttonEl.style.display =\n",
              "        google.colab.kernel.accessAllowed ? 'block' : 'none';\n",
              "\n",
              "      async function convertToInteractive(key) {\n",
              "        const element = document.querySelector('#df-b59f23ad-39b8-4b0f-8395-74a8ede9d89c');\n",
              "        const dataTable =\n",
              "          await google.colab.kernel.invokeFunction('convertToInteractive',\n",
              "                                                    [key], {});\n",
              "        if (!dataTable) return;\n",
              "\n",
              "        const docLinkHtml = 'Like what you see? Visit the ' +\n",
              "          '<a target=\"_blank\" href=https://colab.research.google.com/notebooks/data_table.ipynb>data table notebook</a>'\n",
              "          + ' to learn more about interactive tables.';\n",
              "        element.innerHTML = '';\n",
              "        dataTable['output_type'] = 'display_data';\n",
              "        await google.colab.output.renderOutput(dataTable, element);\n",
              "        const docLink = document.createElement('div');\n",
              "        docLink.innerHTML = docLinkHtml;\n",
              "        element.appendChild(docLink);\n",
              "      }\n",
              "    </script>\n",
              "  </div>\n",
              "  \n",
              "    </div>\n",
              "  </div>\n",
              "  "
            ]
          },
          "metadata": {},
          "execution_count": 30
        }
      ]
    },
    {
      "cell_type": "code",
      "source": [
        "df['product'].isnull().sum()"
      ],
      "metadata": {
        "colab": {
          "base_uri": "https://localhost:8080/"
        },
        "id": "LSkTYkSeePk2",
        "outputId": "41a206b9-77c0-4c44-93b9-b4643ed30fa3"
      },
      "execution_count": 31,
      "outputs": [
        {
          "output_type": "execute_result",
          "data": {
            "text/plain": [
              "759"
            ]
          },
          "metadata": {},
          "execution_count": 31
        }
      ]
    },
    {
      "cell_type": "code",
      "source": [
        "# drop the remaining\n",
        "df = df.dropna(subset=['product'])"
      ],
      "metadata": {
        "id": "RTd29x4deS9V"
      },
      "execution_count": 32,
      "outputs": []
    },
    {
      "cell_type": "code",
      "source": [
        "#check distribution of emotions\n",
        "df['emotion'].value_counts()"
      ],
      "metadata": {
        "colab": {
          "base_uri": "https://localhost:8080/",
          "height": 241
        },
        "id": "NyGqgnIoeUjU",
        "outputId": "3c1fa3df-7c95-4265-8d1f-25f27b7d1abf"
      },
      "execution_count": 33,
      "outputs": [
        {
          "output_type": "execute_result",
          "data": {
            "text/plain": [
              "emotion\n",
              "No emotion toward brand or product    4633\n",
              "Positive emotion                      2955\n",
              "Negative emotion                       568\n",
              "I can't tell                           150\n",
              "Name: count, dtype: int64"
            ],
            "text/html": [
              "<div>\n",
              "<style scoped>\n",
              "    .dataframe tbody tr th:only-of-type {\n",
              "        vertical-align: middle;\n",
              "    }\n",
              "\n",
              "    .dataframe tbody tr th {\n",
              "        vertical-align: top;\n",
              "    }\n",
              "\n",
              "    .dataframe thead th {\n",
              "        text-align: right;\n",
              "    }\n",
              "</style>\n",
              "<table border=\"1\" class=\"dataframe\">\n",
              "  <thead>\n",
              "    <tr style=\"text-align: right;\">\n",
              "      <th></th>\n",
              "      <th>count</th>\n",
              "    </tr>\n",
              "    <tr>\n",
              "      <th>emotion</th>\n",
              "      <th></th>\n",
              "    </tr>\n",
              "  </thead>\n",
              "  <tbody>\n",
              "    <tr>\n",
              "      <th>No emotion toward brand or product</th>\n",
              "      <td>4633</td>\n",
              "    </tr>\n",
              "    <tr>\n",
              "      <th>Positive emotion</th>\n",
              "      <td>2955</td>\n",
              "    </tr>\n",
              "    <tr>\n",
              "      <th>Negative emotion</th>\n",
              "      <td>568</td>\n",
              "    </tr>\n",
              "    <tr>\n",
              "      <th>I can't tell</th>\n",
              "      <td>150</td>\n",
              "    </tr>\n",
              "  </tbody>\n",
              "</table>\n",
              "</div><br><label><b>dtype:</b> int64</label>"
            ]
          },
          "metadata": {},
          "execution_count": 33
        }
      ]
    },
    {
      "cell_type": "code",
      "source": [
        "#drop records where emotion is i can't tell\n",
        "df = df.drop(df[df['emotion'] == \"I can't tell\"].index)"
      ],
      "metadata": {
        "id": "zPLtBTxKeXS7"
      },
      "execution_count": 34,
      "outputs": []
    },
    {
      "cell_type": "code",
      "source": [
        "# label emotion as 'positive', 'negative' and 'neutral'\n",
        "df.loc[:, 'sentiment'] = df['emotion'].apply(lambda x: 'positive' if x == 'Positive emotion' else ('negative' if x == 'Negative emotion' else 'neutral'))\n",
        "df.head()"
      ],
      "metadata": {
        "colab": {
          "base_uri": "https://localhost:8080/",
          "height": 293
        },
        "id": "dNmx45fNeX_1",
        "outputId": "2bb79040-3d6c-41be-9811-e06f2d7958a8"
      },
      "execution_count": 35,
      "outputs": [
        {
          "output_type": "execute_result",
          "data": {
            "text/plain": [
              "                                              tweets             product  \\\n",
              "0  .@wesley83 I have a 3G iPhone. After 3 hrs twe...              iPhone   \n",
              "1  @jessedee Know about @fludapp ? Awesome iPad/i...  iPad or iPhone App   \n",
              "2  @swonderlin Can not wait for #iPad 2 also. The...                iPad   \n",
              "3  @sxsw I hope this year's festival isn't as cra...  iPad or iPhone App   \n",
              "4  @sxtxstate great stuff on Fri #SXSW: Marissa M...              Google   \n",
              "\n",
              "            emotion sentiment  \n",
              "0  Negative emotion  negative  \n",
              "1  Positive emotion  positive  \n",
              "2  Positive emotion  positive  \n",
              "3  Negative emotion  negative  \n",
              "4  Positive emotion  positive  "
            ],
            "text/html": [
              "\n",
              "  <div id=\"df-7ce33a97-f249-4112-a080-7917d98e51e6\" class=\"colab-df-container\">\n",
              "    <div>\n",
              "<style scoped>\n",
              "    .dataframe tbody tr th:only-of-type {\n",
              "        vertical-align: middle;\n",
              "    }\n",
              "\n",
              "    .dataframe tbody tr th {\n",
              "        vertical-align: top;\n",
              "    }\n",
              "\n",
              "    .dataframe thead th {\n",
              "        text-align: right;\n",
              "    }\n",
              "</style>\n",
              "<table border=\"1\" class=\"dataframe\">\n",
              "  <thead>\n",
              "    <tr style=\"text-align: right;\">\n",
              "      <th></th>\n",
              "      <th>tweets</th>\n",
              "      <th>product</th>\n",
              "      <th>emotion</th>\n",
              "      <th>sentiment</th>\n",
              "    </tr>\n",
              "  </thead>\n",
              "  <tbody>\n",
              "    <tr>\n",
              "      <th>0</th>\n",
              "      <td>.@wesley83 I have a 3G iPhone. After 3 hrs twe...</td>\n",
              "      <td>iPhone</td>\n",
              "      <td>Negative emotion</td>\n",
              "      <td>negative</td>\n",
              "    </tr>\n",
              "    <tr>\n",
              "      <th>1</th>\n",
              "      <td>@jessedee Know about @fludapp ? Awesome iPad/i...</td>\n",
              "      <td>iPad or iPhone App</td>\n",
              "      <td>Positive emotion</td>\n",
              "      <td>positive</td>\n",
              "    </tr>\n",
              "    <tr>\n",
              "      <th>2</th>\n",
              "      <td>@swonderlin Can not wait for #iPad 2 also. The...</td>\n",
              "      <td>iPad</td>\n",
              "      <td>Positive emotion</td>\n",
              "      <td>positive</td>\n",
              "    </tr>\n",
              "    <tr>\n",
              "      <th>3</th>\n",
              "      <td>@sxsw I hope this year's festival isn't as cra...</td>\n",
              "      <td>iPad or iPhone App</td>\n",
              "      <td>Negative emotion</td>\n",
              "      <td>negative</td>\n",
              "    </tr>\n",
              "    <tr>\n",
              "      <th>4</th>\n",
              "      <td>@sxtxstate great stuff on Fri #SXSW: Marissa M...</td>\n",
              "      <td>Google</td>\n",
              "      <td>Positive emotion</td>\n",
              "      <td>positive</td>\n",
              "    </tr>\n",
              "  </tbody>\n",
              "</table>\n",
              "</div>\n",
              "    <div class=\"colab-df-buttons\">\n",
              "      \n",
              "  <div class=\"colab-df-container\">\n",
              "    <button class=\"colab-df-convert\" onclick=\"convertToInteractive('df-7ce33a97-f249-4112-a080-7917d98e51e6')\"\n",
              "            title=\"Convert this dataframe to an interactive table.\"\n",
              "            style=\"display:none;\">\n",
              "      \n",
              "  <svg xmlns=\"http://www.w3.org/2000/svg\" height=\"24px\" viewBox=\"0 -960 960 960\">\n",
              "    <path d=\"M120-120v-720h720v720H120Zm60-500h600v-160H180v160Zm220 220h160v-160H400v160Zm0 220h160v-160H400v160ZM180-400h160v-160H180v160Zm440 0h160v-160H620v160ZM180-180h160v-160H180v160Zm440 0h160v-160H620v160Z\"/>\n",
              "  </svg>\n",
              "    </button>\n",
              "    \n",
              "  <style>\n",
              "    .colab-df-container {\n",
              "      display:flex;\n",
              "      gap: 12px;\n",
              "    }\n",
              "\n",
              "    .colab-df-convert {\n",
              "      background-color: #E8F0FE;\n",
              "      border: none;\n",
              "      border-radius: 50%;\n",
              "      cursor: pointer;\n",
              "      display: none;\n",
              "      fill: #1967D2;\n",
              "      height: 32px;\n",
              "      padding: 0 0 0 0;\n",
              "      width: 32px;\n",
              "    }\n",
              "\n",
              "    .colab-df-convert:hover {\n",
              "      background-color: #E2EBFA;\n",
              "      box-shadow: 0px 1px 2px rgba(60, 64, 67, 0.3), 0px 1px 3px 1px rgba(60, 64, 67, 0.15);\n",
              "      fill: #174EA6;\n",
              "    }\n",
              "\n",
              "    .colab-df-buttons div {\n",
              "      margin-bottom: 4px;\n",
              "    }\n",
              "\n",
              "    [theme=dark] .colab-df-convert {\n",
              "      background-color: #3B4455;\n",
              "      fill: #D2E3FC;\n",
              "    }\n",
              "\n",
              "    [theme=dark] .colab-df-convert:hover {\n",
              "      background-color: #434B5C;\n",
              "      box-shadow: 0px 1px 3px 1px rgba(0, 0, 0, 0.15);\n",
              "      filter: drop-shadow(0px 1px 2px rgba(0, 0, 0, 0.3));\n",
              "      fill: #FFFFFF;\n",
              "    }\n",
              "  </style>\n",
              "\n",
              "    <script>\n",
              "      const buttonEl =\n",
              "        document.querySelector('#df-7ce33a97-f249-4112-a080-7917d98e51e6 button.colab-df-convert');\n",
              "      buttonEl.style.display =\n",
              "        google.colab.kernel.accessAllowed ? 'block' : 'none';\n",
              "\n",
              "      async function convertToInteractive(key) {\n",
              "        const element = document.querySelector('#df-7ce33a97-f249-4112-a080-7917d98e51e6');\n",
              "        const dataTable =\n",
              "          await google.colab.kernel.invokeFunction('convertToInteractive',\n",
              "                                                    [key], {});\n",
              "        if (!dataTable) return;\n",
              "\n",
              "        const docLinkHtml = 'Like what you see? Visit the ' +\n",
              "          '<a target=\"_blank\" href=https://colab.research.google.com/notebooks/data_table.ipynb>data table notebook</a>'\n",
              "          + ' to learn more about interactive tables.';\n",
              "        element.innerHTML = '';\n",
              "        dataTable['output_type'] = 'display_data';\n",
              "        await google.colab.output.renderOutput(dataTable, element);\n",
              "        const docLink = document.createElement('div');\n",
              "        docLink.innerHTML = docLinkHtml;\n",
              "        element.appendChild(docLink);\n",
              "      }\n",
              "    </script>\n",
              "  </div>\n",
              "  \n",
              "    </div>\n",
              "  </div>\n",
              "  "
            ]
          },
          "metadata": {},
          "execution_count": 35
        }
      ]
    },
    {
      "cell_type": "code",
      "source": [
        "#Ensure cleaning process worked effectively\n",
        "data_und = DataUnderstanding(df)\n",
        "\n",
        "data_und.understand_data()"
      ],
      "metadata": {
        "colab": {
          "base_uri": "https://localhost:8080/"
        },
        "id": "GB__QYCjearS",
        "outputId": "8a6d3b74-fb12-4446-918c-60f76157159f"
      },
      "execution_count": 36,
      "outputs": [
        {
          "output_type": "stream",
          "name": "stdout",
          "text": [
            "\n",
            "\n",
            "HEAD\n",
            "----------------------\n",
            "                                              tweets             product  \\\n",
            "0  .@wesley83 I have a 3G iPhone. After 3 hrs twe...              iPhone   \n",
            "1  @jessedee Know about @fludapp ? Awesome iPad/i...  iPad or iPhone App   \n",
            "2  @swonderlin Can not wait for #iPad 2 also. The...                iPad   \n",
            "3  @sxsw I hope this year's festival isn't as cra...  iPad or iPhone App   \n",
            "4  @sxtxstate great stuff on Fri #SXSW: Marissa M...              Google   \n",
            "\n",
            "            emotion sentiment  \n",
            "0  Negative emotion  negative  \n",
            "1  Positive emotion  positive  \n",
            "2  Positive emotion  positive  \n",
            "3  Negative emotion  negative  \n",
            "4  Positive emotion  positive  \n",
            "\n",
            "\n",
            "INFO\n",
            "----------------------\n",
            "<class 'pandas.core.frame.DataFrame'>\n",
            "Index: 8156 entries, 0 to 9092\n",
            "Data columns (total 4 columns):\n",
            " #   Column     Non-Null Count  Dtype \n",
            "---  ------     --------------  ----- \n",
            " 0   tweets     8156 non-null   object\n",
            " 1   product    8156 non-null   object\n",
            " 2   emotion    8156 non-null   object\n",
            " 3   sentiment  8156 non-null   object\n",
            "dtypes: object(4)\n",
            "memory usage: 318.6+ KB\n",
            "None\n",
            "\n",
            "\n",
            "SHAPE\n",
            "----------------------\n",
            "Records: 8156, Features: 4\n",
            "\n",
            "COLUMNS\n",
            "----------------------\n",
            "- tweets\n",
            "- product\n",
            "- emotion\n",
            "- sentiment\n",
            "\n",
            "\n",
            "MISSING VALUES\n",
            "----------------------\n",
            "tweets: 0\n",
            "product: 0\n",
            "emotion: 0\n",
            "sentiment: 0\n",
            "\n",
            "\n",
            "DUPLICATES\n",
            "----------------------\n",
            "Duplicate records: 0\n"
          ]
        }
      ]
    },
    {
      "cell_type": "code",
      "source": [],
      "metadata": {
        "id": "5cBbLWt7KX_t"
      },
      "execution_count": 36,
      "outputs": []
    }
  ]
}